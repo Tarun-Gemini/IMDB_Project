{
 "cells": [
  {
   "cell_type": "code",
   "execution_count": 1,
   "metadata": {
    "executionInfo": {
     "elapsed": 1138,
     "status": "ok",
     "timestamp": 1694330190611,
     "user": {
      "displayName": "Tarun Ananthoji",
      "userId": "16248133775509476973"
     },
     "user_tz": -330
    },
    "id": "cGCGS4uu3vH7"
   },
   "outputs": [],
   "source": [
    "import pandas as pd"
   ]
  },
  {
   "cell_type": "code",
   "execution_count": 2,
   "metadata": {
    "executionInfo": {
     "elapsed": 6,
     "status": "ok",
     "timestamp": 1694330191913,
     "user": {
      "displayName": "Tarun Ananthoji",
      "userId": "16248133775509476973"
     },
     "user_tz": -330
    },
    "id": "7Lcn7TM45Eh6"
   },
   "outputs": [],
   "source": [
    "import numpy as np"
   ]
  },
  {
   "cell_type": "code",
   "execution_count": 3,
   "metadata": {
    "colab": {
     "base_uri": "https://localhost:8080/"
    },
    "executionInfo": {
     "elapsed": 5,
     "status": "ok",
     "timestamp": 1694094667399,
     "user": {
      "displayName": "Tarun Ananthoji",
      "userId": "16248133775509476973"
     },
     "user_tz": -330
    },
    "id": "zhdv-Dls5jc2",
    "outputId": "cb3d68a2-99a0-4e47-eba6-7fd295c92011"
   },
   "outputs": [
    {
     "name": "stdout",
     "output_type": "stream",
     "text": [
      "C:\\Users\\LENOVO\\Desktop\n"
     ]
    }
   ],
   "source": [
    "import os\n",
    "\n",
    "print(os.getcwd())"
   ]
  },
  {
   "cell_type": "code",
   "execution_count": 5,
   "metadata": {
    "colab": {
     "base_uri": "https://localhost:8080/",
     "height": 372
    },
    "executionInfo": {
     "elapsed": 46496,
     "status": "error",
     "timestamp": 1694330314209,
     "user": {
      "displayName": "Tarun Ananthoji",
      "userId": "16248133775509476973"
     },
     "user_tz": -330
    },
    "id": "Bx3cmMNI6hmi",
    "outputId": "5441b614-2c2f-42ea-fa5c-bb7d09cbdf13"
   },
   "outputs": [
    {
     "ename": "MessageError",
     "evalue": "ignored",
     "output_type": "error",
     "traceback": [
      "\u001b[0;31m---------------------------------------------------------------------------\u001b[0m",
      "\u001b[0;31mMessageError\u001b[0m                              Traceback (most recent call last)",
      "\u001b[0;32m<ipython-input-5-d5df0069828e>\u001b[0m in \u001b[0;36m<cell line: 2>\u001b[0;34m()\u001b[0m\n\u001b[1;32m      1\u001b[0m \u001b[0;32mfrom\u001b[0m \u001b[0mgoogle\u001b[0m\u001b[0;34m.\u001b[0m\u001b[0mcolab\u001b[0m \u001b[0;32mimport\u001b[0m \u001b[0mdrive\u001b[0m\u001b[0;34m\u001b[0m\u001b[0;34m\u001b[0m\u001b[0m\n\u001b[0;32m----> 2\u001b[0;31m \u001b[0mdrive\u001b[0m\u001b[0;34m.\u001b[0m\u001b[0mmount\u001b[0m\u001b[0;34m(\u001b[0m\u001b[0;34m'/content/drive'\u001b[0m\u001b[0;34m)\u001b[0m\u001b[0;34m\u001b[0m\u001b[0;34m\u001b[0m\u001b[0m\n\u001b[0m",
      "\u001b[0;32m/usr/local/lib/python3.10/dist-packages/google/colab/drive.py\u001b[0m in \u001b[0;36mmount\u001b[0;34m(mountpoint, force_remount, timeout_ms, readonly)\u001b[0m\n\u001b[1;32m    101\u001b[0m \u001b[0;32mdef\u001b[0m \u001b[0mmount\u001b[0m\u001b[0;34m(\u001b[0m\u001b[0mmountpoint\u001b[0m\u001b[0;34m,\u001b[0m \u001b[0mforce_remount\u001b[0m\u001b[0;34m=\u001b[0m\u001b[0;32mFalse\u001b[0m\u001b[0;34m,\u001b[0m \u001b[0mtimeout_ms\u001b[0m\u001b[0;34m=\u001b[0m\u001b[0;36m120000\u001b[0m\u001b[0;34m,\u001b[0m \u001b[0mreadonly\u001b[0m\u001b[0;34m=\u001b[0m\u001b[0;32mFalse\u001b[0m\u001b[0;34m)\u001b[0m\u001b[0;34m:\u001b[0m\u001b[0;34m\u001b[0m\u001b[0;34m\u001b[0m\u001b[0m\n\u001b[1;32m    102\u001b[0m   \u001b[0;34m\"\"\"Mount your Google Drive at the specified mountpoint path.\"\"\"\u001b[0m\u001b[0;34m\u001b[0m\u001b[0;34m\u001b[0m\u001b[0m\n\u001b[0;32m--> 103\u001b[0;31m   return _mount(\n\u001b[0m\u001b[1;32m    104\u001b[0m       \u001b[0mmountpoint\u001b[0m\u001b[0;34m,\u001b[0m\u001b[0;34m\u001b[0m\u001b[0;34m\u001b[0m\u001b[0m\n\u001b[1;32m    105\u001b[0m       \u001b[0mforce_remount\u001b[0m\u001b[0;34m=\u001b[0m\u001b[0mforce_remount\u001b[0m\u001b[0;34m,\u001b[0m\u001b[0;34m\u001b[0m\u001b[0;34m\u001b[0m\u001b[0m\n",
      "\u001b[0;32m/usr/local/lib/python3.10/dist-packages/google/colab/drive.py\u001b[0m in \u001b[0;36m_mount\u001b[0;34m(mountpoint, force_remount, timeout_ms, ephemeral, readonly)\u001b[0m\n\u001b[1;32m    130\u001b[0m   )\n\u001b[1;32m    131\u001b[0m   \u001b[0;32mif\u001b[0m \u001b[0mephemeral\u001b[0m\u001b[0;34m:\u001b[0m\u001b[0;34m\u001b[0m\u001b[0;34m\u001b[0m\u001b[0m\n\u001b[0;32m--> 132\u001b[0;31m     _message.blocking_request(\n\u001b[0m\u001b[1;32m    133\u001b[0m         \u001b[0;34m'request_auth'\u001b[0m\u001b[0;34m,\u001b[0m \u001b[0mrequest\u001b[0m\u001b[0;34m=\u001b[0m\u001b[0;34m{\u001b[0m\u001b[0;34m'authType'\u001b[0m\u001b[0;34m:\u001b[0m \u001b[0;34m'dfs_ephemeral'\u001b[0m\u001b[0;34m}\u001b[0m\u001b[0;34m,\u001b[0m \u001b[0mtimeout_sec\u001b[0m\u001b[0;34m=\u001b[0m\u001b[0;32mNone\u001b[0m\u001b[0;34m\u001b[0m\u001b[0;34m\u001b[0m\u001b[0m\n\u001b[1;32m    134\u001b[0m     )\n",
      "\u001b[0;32m/usr/local/lib/python3.10/dist-packages/google/colab/_message.py\u001b[0m in \u001b[0;36mblocking_request\u001b[0;34m(request_type, request, timeout_sec, parent)\u001b[0m\n\u001b[1;32m    174\u001b[0m       \u001b[0mrequest_type\u001b[0m\u001b[0;34m,\u001b[0m \u001b[0mrequest\u001b[0m\u001b[0;34m,\u001b[0m \u001b[0mparent\u001b[0m\u001b[0;34m=\u001b[0m\u001b[0mparent\u001b[0m\u001b[0;34m,\u001b[0m \u001b[0mexpect_reply\u001b[0m\u001b[0;34m=\u001b[0m\u001b[0;32mTrue\u001b[0m\u001b[0;34m\u001b[0m\u001b[0;34m\u001b[0m\u001b[0m\n\u001b[1;32m    175\u001b[0m   )\n\u001b[0;32m--> 176\u001b[0;31m   \u001b[0;32mreturn\u001b[0m \u001b[0mread_reply_from_input\u001b[0m\u001b[0;34m(\u001b[0m\u001b[0mrequest_id\u001b[0m\u001b[0;34m,\u001b[0m \u001b[0mtimeout_sec\u001b[0m\u001b[0;34m)\u001b[0m\u001b[0;34m\u001b[0m\u001b[0;34m\u001b[0m\u001b[0m\n\u001b[0m",
      "\u001b[0;32m/usr/local/lib/python3.10/dist-packages/google/colab/_message.py\u001b[0m in \u001b[0;36mread_reply_from_input\u001b[0;34m(message_id, timeout_sec)\u001b[0m\n\u001b[1;32m    101\u001b[0m     ):\n\u001b[1;32m    102\u001b[0m       \u001b[0;32mif\u001b[0m \u001b[0;34m'error'\u001b[0m \u001b[0;32min\u001b[0m \u001b[0mreply\u001b[0m\u001b[0;34m:\u001b[0m\u001b[0;34m\u001b[0m\u001b[0;34m\u001b[0m\u001b[0m\n\u001b[0;32m--> 103\u001b[0;31m         \u001b[0;32mraise\u001b[0m \u001b[0mMessageError\u001b[0m\u001b[0;34m(\u001b[0m\u001b[0mreply\u001b[0m\u001b[0;34m[\u001b[0m\u001b[0;34m'error'\u001b[0m\u001b[0;34m]\u001b[0m\u001b[0;34m)\u001b[0m\u001b[0;34m\u001b[0m\u001b[0;34m\u001b[0m\u001b[0m\n\u001b[0m\u001b[1;32m    104\u001b[0m       \u001b[0;32mreturn\u001b[0m \u001b[0mreply\u001b[0m\u001b[0;34m.\u001b[0m\u001b[0mget\u001b[0m\u001b[0;34m(\u001b[0m\u001b[0;34m'data'\u001b[0m\u001b[0;34m,\u001b[0m \u001b[0;32mNone\u001b[0m\u001b[0;34m)\u001b[0m\u001b[0;34m\u001b[0m\u001b[0;34m\u001b[0m\u001b[0m\n\u001b[1;32m    105\u001b[0m \u001b[0;34m\u001b[0m\u001b[0m\n",
      "\u001b[0;31mMessageError\u001b[0m: Error: credential propagation was unsuccessful"
     ]
    }
   ],
   "source": [
    "from google.colab import drive\n",
    "drive.mount('/content/drive')"
   ]
  },
  {
   "cell_type": "code",
   "execution_count": null,
   "metadata": {
    "id": "M0mZOtvG88Cb"
   },
   "outputs": [],
   "source": []
  },
  {
   "cell_type": "code",
   "execution_count": 4,
   "metadata": {
    "colab": {
     "base_uri": "https://localhost:8080/",
     "height": 219
    },
    "executionInfo": {
     "elapsed": 338,
     "status": "error",
     "timestamp": 1694330224092,
     "user": {
      "displayName": "Tarun Ananthoji",
      "userId": "16248133775509476973"
     },
     "user_tz": -330
    },
    "id": "riAtoHM-7Up0",
    "outputId": "347dc87d-0a49-4134-985c-8842b00b1ddc"
   },
   "outputs": [
    {
     "ename": "FileNotFoundError",
     "evalue": "ignored",
     "output_type": "error",
     "traceback": [
      "\u001b[0;31m---------------------------------------------------------------------------\u001b[0m",
      "\u001b[0;31mFileNotFoundError\u001b[0m                         Traceback (most recent call last)",
      "\u001b[0;32m<ipython-input-4-4c389c38dffa>\u001b[0m in \u001b[0;36m<cell line: 2>\u001b[0;34m()\u001b[0m\n\u001b[1;32m      1\u001b[0m \u001b[0;32mimport\u001b[0m \u001b[0mos\u001b[0m\u001b[0;34m\u001b[0m\u001b[0;34m\u001b[0m\u001b[0m\n\u001b[0;32m----> 2\u001b[0;31m \u001b[0mos\u001b[0m\u001b[0;34m.\u001b[0m\u001b[0mchdir\u001b[0m\u001b[0;34m(\u001b[0m\u001b[0;34m'/content/drive/My Drive/Colab_Notebooks'\u001b[0m\u001b[0;34m)\u001b[0m\u001b[0;34m\u001b[0m\u001b[0;34m\u001b[0m\u001b[0m\n\u001b[0m",
      "\u001b[0;31mFileNotFoundError\u001b[0m: [Errno 2] No such file or directory: '/content/drive/My Drive/Colab_Notebooks'"
     ]
    }
   ],
   "source": [
    "import os\n",
    "os.chdir('/content/drive/My Drive/Colab_Notebooks')"
   ]
  },
  {
   "cell_type": "code",
   "execution_count": 4,
   "metadata": {
    "colab": {
     "base_uri": "https://localhost:8080/",
     "height": 390
    },
    "executionInfo": {
     "elapsed": 375,
     "status": "error",
     "timestamp": 1694330198757,
     "user": {
      "displayName": "Tarun Ananthoji",
      "userId": "16248133775509476973"
     },
     "user_tz": -330
    },
    "id": "OuLk2PkT7x6N",
    "outputId": "755f6ea4-1f6e-4241-9911-4fefb35517aa"
   },
   "outputs": [
    {
     "data": {
      "text/html": [
       "<div>\n",
       "<style scoped>\n",
       "    .dataframe tbody tr th:only-of-type {\n",
       "        vertical-align: middle;\n",
       "    }\n",
       "\n",
       "    .dataframe tbody tr th {\n",
       "        vertical-align: top;\n",
       "    }\n",
       "\n",
       "    .dataframe thead th {\n",
       "        text-align: right;\n",
       "    }\n",
       "</style>\n",
       "<table border=\"1\" class=\"dataframe\">\n",
       "  <thead>\n",
       "    <tr style=\"text-align: right;\">\n",
       "      <th></th>\n",
       "      <th>ID</th>\n",
       "      <th>Title</th>\n",
       "      <th>Genre</th>\n",
       "      <th>Director</th>\n",
       "      <th>Year</th>\n",
       "      <th>Runtime_minutes</th>\n",
       "      <th>Rating</th>\n",
       "      <th>Votes</th>\n",
       "      <th>Revenue_millions</th>\n",
       "    </tr>\n",
       "  </thead>\n",
       "  <tbody>\n",
       "    <tr>\n",
       "      <th>0</th>\n",
       "      <td>1</td>\n",
       "      <td>Guardians of the Galaxy</td>\n",
       "      <td>Action</td>\n",
       "      <td>James Gunn</td>\n",
       "      <td>2014</td>\n",
       "      <td>121</td>\n",
       "      <td>8.1</td>\n",
       "      <td>757074</td>\n",
       "      <td>333.13</td>\n",
       "    </tr>\n",
       "    <tr>\n",
       "      <th>1</th>\n",
       "      <td>2</td>\n",
       "      <td>Prometheus</td>\n",
       "      <td>Adventure</td>\n",
       "      <td>Ridley Scott</td>\n",
       "      <td>2012</td>\n",
       "      <td>124</td>\n",
       "      <td>7.0</td>\n",
       "      <td>485820</td>\n",
       "      <td>126.46</td>\n",
       "    </tr>\n",
       "    <tr>\n",
       "      <th>2</th>\n",
       "      <td>3</td>\n",
       "      <td>Split</td>\n",
       "      <td>Horror</td>\n",
       "      <td>M. Night Shyamalan</td>\n",
       "      <td>2016</td>\n",
       "      <td>117</td>\n",
       "      <td>7.3</td>\n",
       "      <td>157606</td>\n",
       "      <td>138.12</td>\n",
       "    </tr>\n",
       "    <tr>\n",
       "      <th>3</th>\n",
       "      <td>4</td>\n",
       "      <td>Sing</td>\n",
       "      <td>Animation</td>\n",
       "      <td>Christophe Lourdelet</td>\n",
       "      <td>2016</td>\n",
       "      <td>108</td>\n",
       "      <td>7.2</td>\n",
       "      <td>60545</td>\n",
       "      <td>270.32</td>\n",
       "    </tr>\n",
       "    <tr>\n",
       "      <th>4</th>\n",
       "      <td>5</td>\n",
       "      <td>Suicide Squad</td>\n",
       "      <td>Action</td>\n",
       "      <td>David Ayer</td>\n",
       "      <td>2016</td>\n",
       "      <td>123</td>\n",
       "      <td>6.2</td>\n",
       "      <td>393727</td>\n",
       "      <td>325.02</td>\n",
       "    </tr>\n",
       "    <tr>\n",
       "      <th>...</th>\n",
       "      <td>...</td>\n",
       "      <td>...</td>\n",
       "      <td>...</td>\n",
       "      <td>...</td>\n",
       "      <td>...</td>\n",
       "      <td>...</td>\n",
       "      <td>...</td>\n",
       "      <td>...</td>\n",
       "      <td>...</td>\n",
       "    </tr>\n",
       "    <tr>\n",
       "      <th>995</th>\n",
       "      <td>996</td>\n",
       "      <td>Secret in Their Eyes</td>\n",
       "      <td>Crime</td>\n",
       "      <td>Billy Ray</td>\n",
       "      <td>2015</td>\n",
       "      <td>111</td>\n",
       "      <td>6.2</td>\n",
       "      <td>27585</td>\n",
       "      <td>NaN</td>\n",
       "    </tr>\n",
       "    <tr>\n",
       "      <th>996</th>\n",
       "      <td>997</td>\n",
       "      <td>Hostel: Part II</td>\n",
       "      <td>Horror</td>\n",
       "      <td>Eli Roth</td>\n",
       "      <td>2007</td>\n",
       "      <td>94</td>\n",
       "      <td>5.5</td>\n",
       "      <td>73152</td>\n",
       "      <td>17.54</td>\n",
       "    </tr>\n",
       "    <tr>\n",
       "      <th>997</th>\n",
       "      <td>998</td>\n",
       "      <td>Step Up 2: The Streets</td>\n",
       "      <td>Drama</td>\n",
       "      <td>Jon M. Chu</td>\n",
       "      <td>2008</td>\n",
       "      <td>98</td>\n",
       "      <td>6.2</td>\n",
       "      <td>70699</td>\n",
       "      <td>58.01</td>\n",
       "    </tr>\n",
       "    <tr>\n",
       "      <th>998</th>\n",
       "      <td>999</td>\n",
       "      <td>Search Party</td>\n",
       "      <td>Adventure</td>\n",
       "      <td>Scot Armstrong</td>\n",
       "      <td>2014</td>\n",
       "      <td>93</td>\n",
       "      <td>5.6</td>\n",
       "      <td>4881</td>\n",
       "      <td>NaN</td>\n",
       "    </tr>\n",
       "    <tr>\n",
       "      <th>999</th>\n",
       "      <td>1000</td>\n",
       "      <td>Nine Lives</td>\n",
       "      <td>Comedy</td>\n",
       "      <td>Barry Sonnenfeld</td>\n",
       "      <td>2016</td>\n",
       "      <td>87</td>\n",
       "      <td>5.3</td>\n",
       "      <td>12435</td>\n",
       "      <td>19.64</td>\n",
       "    </tr>\n",
       "  </tbody>\n",
       "</table>\n",
       "<p>1000 rows × 9 columns</p>\n",
       "</div>"
      ],
      "text/plain": [
       "       ID                    Title      Genre              Director  Year  \\\n",
       "0       1  Guardians of the Galaxy     Action            James Gunn  2014   \n",
       "1       2               Prometheus  Adventure          Ridley Scott  2012   \n",
       "2       3                    Split     Horror    M. Night Shyamalan  2016   \n",
       "3       4                     Sing  Animation  Christophe Lourdelet  2016   \n",
       "4       5            Suicide Squad     Action            David Ayer  2016   \n",
       "..    ...                      ...        ...                   ...   ...   \n",
       "995   996     Secret in Their Eyes      Crime             Billy Ray  2015   \n",
       "996   997          Hostel: Part II     Horror              Eli Roth  2007   \n",
       "997   998   Step Up 2: The Streets      Drama            Jon M. Chu  2008   \n",
       "998   999             Search Party  Adventure        Scot Armstrong  2014   \n",
       "999  1000               Nine Lives     Comedy      Barry Sonnenfeld  2016   \n",
       "\n",
       "     Runtime_minutes  Rating   Votes  Revenue_millions  \n",
       "0                121     8.1  757074            333.13  \n",
       "1                124     7.0  485820            126.46  \n",
       "2                117     7.3  157606            138.12  \n",
       "3                108     7.2   60545            270.32  \n",
       "4                123     6.2  393727            325.02  \n",
       "..               ...     ...     ...               ...  \n",
       "995              111     6.2   27585               NaN  \n",
       "996               94     5.5   73152             17.54  \n",
       "997               98     6.2   70699             58.01  \n",
       "998               93     5.6    4881               NaN  \n",
       "999               87     5.3   12435             19.64  \n",
       "\n",
       "[1000 rows x 9 columns]"
      ]
     },
     "execution_count": 4,
     "metadata": {},
     "output_type": "execute_result"
    }
   ],
   "source": [
    "df = pd.read_csv('IMDBMovie.csv')\n",
    "df"
   ]
  },
  {
   "cell_type": "code",
   "execution_count": 5,
   "metadata": {
    "colab": {
     "base_uri": "https://localhost:8080/"
    },
    "executionInfo": {
     "elapsed": 11,
     "status": "ok",
     "timestamp": 1694095249029,
     "user": {
      "displayName": "Tarun Ananthoji",
      "userId": "16248133775509476973"
     },
     "user_tz": -330
    },
    "id": "HTP18ra_78QG",
    "outputId": "48ce636b-2f46-4eae-efa9-4381fe83f35b"
   },
   "outputs": [
    {
     "data": {
      "text/plain": [
       "1000"
      ]
     },
     "execution_count": 5,
     "metadata": {},
     "output_type": "execute_result"
    }
   ],
   "source": [
    "len(df)"
   ]
  },
  {
   "cell_type": "code",
   "execution_count": 6,
   "metadata": {
    "colab": {
     "base_uri": "https://localhost:8080/"
    },
    "executionInfo": {
     "elapsed": 488,
     "status": "ok",
     "timestamp": 1694095574445,
     "user": {
      "displayName": "Tarun Ananthoji",
      "userId": "16248133775509476973"
     },
     "user_tz": -330
    },
    "id": "mY74DKLz8gcq",
    "outputId": "9c7420ad-aaff-46a8-b1a5-ed457a641075"
   },
   "outputs": [
    {
     "data": {
      "text/plain": [
       "7.4"
      ]
     },
     "execution_count": 6,
     "metadata": {},
     "output_type": "execute_result"
    }
   ],
   "source": [
    "Q3 = df['Rating'].quantile(0.75)\n",
    "Q3"
   ]
  },
  {
   "cell_type": "code",
   "execution_count": 7,
   "metadata": {
    "colab": {
     "base_uri": "https://localhost:8080/"
    },
    "executionInfo": {
     "elapsed": 14,
     "status": "ok",
     "timestamp": 1694096571018,
     "user": {
      "displayName": "Tarun Ananthoji",
      "userId": "16248133775509476973"
     },
     "user_tz": -330
    },
    "id": "obdIKtYU9Src",
    "outputId": "770376a2-4c1e-4c73-d402-5f133ee9cbd4"
   },
   "outputs": [
    {
     "data": {
      "text/plain": [
       "128"
      ]
     },
     "execution_count": 7,
     "metadata": {},
     "output_type": "execute_result"
    }
   ],
   "source": [
    "df['Revenue_millions'].isnull().sum()"
   ]
  },
  {
   "cell_type": "code",
   "execution_count": 8,
   "metadata": {
    "colab": {
     "base_uri": "https://localhost:8080/"
    },
    "executionInfo": {
     "elapsed": 352,
     "status": "ok",
     "timestamp": 1694252883904,
     "user": {
      "displayName": "Tarun Ananthoji",
      "userId": "16248133775509476973"
     },
     "user_tz": -330
    },
    "id": "tVjH8SLeBdvq",
    "outputId": "5d995199-3fca-47bc-a8d7-29750a4268b5"
   },
   "outputs": [
    {
     "name": "stdout",
     "output_type": "stream",
     "text": [
      "Number of movies with revenue higher than 75 million: 318\n"
     ]
    }
   ],
   "source": [
    "count_high_revenue_movies = len(df[df['Revenue_millions'] > 75])\n",
    "\n",
    "print(\"Number of movies with revenue higher than 75 million:\", count_high_revenue_movies)\n"
   ]
  },
  {
   "cell_type": "code",
   "execution_count": null,
   "metadata": {
    "colab": {
     "base_uri": "https://localhost:8080/"
    },
    "executionInfo": {
     "elapsed": 359,
     "status": "ok",
     "timestamp": 1694253144441,
     "user": {
      "displayName": "Tarun Ananthoji",
      "userId": "16248133775509476973"
     },
     "user_tz": -330
    },
    "id": "rlMv_w8NDmNm",
    "outputId": "aac748c7-62d7-445a-fa79-2adcce140c91"
   },
   "outputs": [
    {
     "name": "stdout",
     "output_type": "stream",
     "text": [
      "The number of movies:  211\n"
     ]
    }
   ],
   "source": [
    "count_movies = len(df[(df['Revenue_millions'] > 50) & (df['Rating'] < 7)])\n",
    "print('The number of movies: ', count_movies)"
   ]
  },
  {
   "cell_type": "code",
   "execution_count": null,
   "metadata": {
    "colab": {
     "base_uri": "https://localhost:8080/"
    },
    "executionInfo": {
     "elapsed": 494,
     "status": "ok",
     "timestamp": 1694253454811,
     "user": {
      "displayName": "Tarun Ananthoji",
      "userId": "16248133775509476973"
     },
     "user_tz": -330
    },
    "id": "cCoDIC-8W1Wz",
    "outputId": "d551b435-e6ee-4fb6-9d38-804bf66322e5"
   },
   "outputs": [
    {
     "name": "stdout",
     "output_type": "stream",
     "text": [
      "revenue_2015:  8854.119999999999\n"
     ]
    }
   ],
   "source": [
    "revenue_2015 = df[df['Year'] == 2015]['Revenue_millions'].sum()\n",
    "print('revenue_2015: ', revenue_2015)"
   ]
  },
  {
   "cell_type": "code",
   "execution_count": null,
   "metadata": {
    "colab": {
     "base_uri": "https://localhost:8080/"
    },
    "executionInfo": {
     "elapsed": 378,
     "status": "ok",
     "timestamp": 1694255198526,
     "user": {
      "displayName": "Tarun Ananthoji",
      "userId": "16248133775509476973"
     },
     "user_tz": -330
    },
    "id": "fpgihjRnXTBO",
    "outputId": "f09c36c4-76e7-49a1-f1ff-ae4a77759871"
   },
   "outputs": [
    {
     "name": "stdout",
     "output_type": "stream",
     "text": [
      "6.8\n"
     ]
    }
   ],
   "source": [
    "average_rtg_genre = df[(df['Genre'] == 'Adventure') & (df['Year']==2015)]['Rating'].mean()\n",
    "print(average_rtg_genre)"
   ]
  },
  {
   "cell_type": "code",
   "execution_count": null,
   "metadata": {
    "colab": {
     "base_uri": "https://localhost:8080/"
    },
    "executionInfo": {
     "elapsed": 1422,
     "status": "ok",
     "timestamp": 1694256466203,
     "user": {
      "displayName": "Tarun Ananthoji",
      "userId": "16248133775509476973"
     },
     "user_tz": -330
    },
    "id": "dH8fPtDTd0YT",
    "outputId": "f2e4ad91-7b29-45ad-e1c1-95cccf3416f6"
   },
   "outputs": [
    {
     "name": "stdout",
     "output_type": "stream",
     "text": [
      "127.61333333333333\n"
     ]
    }
   ],
   "source": [
    "movie_avg_duration = df.iloc[75:150]['Runtime_minutes'].mean()\n",
    "\n",
    "print(movie_avg_duration)"
   ]
  },
  {
   "cell_type": "code",
   "execution_count": null,
   "metadata": {
    "colab": {
     "base_uri": "https://localhost:8080/"
    },
    "executionInfo": {
     "elapsed": 409,
     "status": "ok",
     "timestamp": 1694256710890,
     "user": {
      "displayName": "Tarun Ananthoji",
      "userId": "16248133775509476973"
     },
     "user_tz": -330
    },
    "id": "pnmLV-YWgGRD",
    "outputId": "c5083ff4-8029-45c4-fd5b-441fe7d9e23d"
   },
   "outputs": [
    {
     "name": "stdout",
     "output_type": "stream",
     "text": [
      "2016\n"
     ]
    }
   ],
   "source": [
    "highest_revenue_year = df.groupby('Year')['Revenue_millions'].sum()\n",
    "\n",
    "year_highest_revenue = highest_revenue_year.idxmax()\n",
    "\n",
    "print(year_highest_revenue)"
   ]
  },
  {
   "cell_type": "code",
   "execution_count": null,
   "metadata": {
    "colab": {
     "base_uri": "https://localhost:8080/"
    },
    "executionInfo": {
     "elapsed": 384,
     "status": "ok",
     "timestamp": 1694256796385,
     "user": {
      "displayName": "Tarun Ananthoji",
      "userId": "16248133775509476973"
     },
     "user_tz": -330
    },
    "id": "U8gkq1hskY6L",
    "outputId": "65265d70-5953-48e8-ba55-7dfd63a2f370"
   },
   "outputs": [
    {
     "name": "stdout",
     "output_type": "stream",
     "text": [
      "936.63\n"
     ]
    }
   ],
   "source": [
    "max_revenue = df.iloc[10:51]['Revenue_millions'].max()\n",
    "\n",
    "print(max_revenue)"
   ]
  },
  {
   "cell_type": "code",
   "execution_count": 9,
   "metadata": {
    "colab": {
     "base_uri": "https://localhost:8080/"
    },
    "executionInfo": {
     "elapsed": 411,
     "status": "ok",
     "timestamp": 1694256899979,
     "user": {
      "displayName": "Tarun Ananthoji",
      "userId": "16248133775509476973"
     },
     "user_tz": -330
    },
    "id": "oiwl7_1Wkw76",
    "outputId": "b549599c-06b9-4ac6-9be9-aca211269fdb"
   },
   "outputs": [
    {
     "data": {
      "text/plain": [
       "ID                                        1\n",
       "Title               Guardians of the Galaxy\n",
       "Genre                                Action\n",
       "Director                         James Gunn\n",
       "Year                                   2014\n",
       "Runtime_minutes                         121\n",
       "Rating                                  8.1\n",
       "Votes                                757074\n",
       "Revenue_millions                     333.13\n",
       "Name: 0, dtype: object"
      ]
     },
     "execution_count": 9,
     "metadata": {},
     "output_type": "execute_result"
    }
   ],
   "source": [
    "df.iloc[0]"
   ]
  },
  {
   "cell_type": "code",
   "execution_count": null,
   "metadata": {
    "colab": {
     "base_uri": "https://localhost:8080/"
    },
    "executionInfo": {
     "elapsed": 421,
     "status": "ok",
     "timestamp": 1694257719608,
     "user": {
      "displayName": "Tarun Ananthoji",
      "userId": "16248133775509476973"
     },
     "user_tz": -330
    },
    "id": "q8EcY31dlKNf",
    "outputId": "83c99486-afe0-433b-d57a-ef17dce9ff58"
   },
   "outputs": [
    {
     "name": "stdout",
     "output_type": "stream",
     "text": [
      "Number of movies : 0\n"
     ]
    }
   ],
   "source": [
    "count_movies = len(df[df['Genre'].str.contains('Adventure') & df['Genre'].str.contains('Action') & df['Genre'].str.contains('Horror') & df['Genre'].str.contains('Crime')])\n",
    "\n",
    "print(\"Number of movies :\", count_movies)\n"
   ]
  },
  {
   "cell_type": "code",
   "execution_count": 42,
   "metadata": {
    "colab": {
     "base_uri": "https://localhost:8080/"
    },
    "executionInfo": {
     "elapsed": 16,
     "status": "ok",
     "timestamp": 1694261675590,
     "user": {
      "displayName": "Tarun Ananthoji",
      "userId": "16248133775509476973"
     },
     "user_tz": -330
    },
    "id": "QUatr74L3WaP",
    "outputId": "684d82e5-a4b4-4443-e2ba-0f9a1ca89088"
   },
   "outputs": [
    {
     "data": {
      "text/plain": [
       "0         Action\n",
       "1      Adventure\n",
       "2         Horror\n",
       "3      Animation\n",
       "4         Action\n",
       "         ...    \n",
       "995        Crime\n",
       "996       Horror\n",
       "997        Drama\n",
       "998    Adventure\n",
       "999       Comedy\n",
       "Name: Genre, Length: 1000, dtype: object"
      ]
     },
     "execution_count": 42,
     "metadata": {},
     "output_type": "execute_result"
    }
   ],
   "source": [
    "df['Genre']"
   ]
  },
  {
   "cell_type": "code",
   "execution_count": 43,
   "metadata": {
    "colab": {
     "base_uri": "https://localhost:8080/"
    },
    "executionInfo": {
     "elapsed": 11,
     "status": "ok",
     "timestamp": 1694261811645,
     "user": {
      "displayName": "Tarun Ananthoji",
      "userId": "16248133775509476973"
     },
     "user_tz": -330
    },
    "id": "8Xf2t2QXokoV",
    "outputId": "67cdcae8-688f-4509-972e-ca4b44d1558c"
   },
   "outputs": [
    {
     "name": "stdout",
     "output_type": "stream",
     "text": [
      "There are <lambda>     75\n",
      "<lambda>    293\n",
      "<lambda>     46\n",
      "<lambda>     71\n",
      "dtype: int64 movies with the genres 'Adventure', 'Action', 'Horror', and 'Crime' in the IMDB dataset.\n"
     ]
    }
   ],
   "source": [
    "Genres = [\"Adventure\", \"Action\", \"Horror\", \"Crime\"]\n",
    "\n",
    "n_movies_per_genre = df[\"Genre\"].str.split(\",\").apply(lambda x: x.count(Genre) for Genre in Genres)\n",
    "\n",
    "# Get the total number of movies with the four genres\n",
    "n_movies = n_movies_per_genre.sum()\n",
    "\n",
    "print(f\"There are {n_movies} movies with the genres 'Adventure', 'Action', 'Horror', and 'Crime' in the IMDB dataset.\")\n"
   ]
  },
  {
   "cell_type": "code",
   "execution_count": 44,
   "metadata": {
    "colab": {
     "base_uri": "https://localhost:8080/"
    },
    "executionInfo": {
     "elapsed": 12,
     "status": "ok",
     "timestamp": 1694261844823,
     "user": {
      "displayName": "Tarun Ananthoji",
      "userId": "16248133775509476973"
     },
     "user_tz": -330
    },
    "id": "P8NbHsevpd4A",
    "outputId": "b782777b-9dc0-4b98-ea0d-c7dee65081e3"
   },
   "outputs": [
    {
     "data": {
      "text/plain": [
       "485"
      ]
     },
     "execution_count": 44,
     "metadata": {},
     "output_type": "execute_result"
    }
   ],
   "source": [
    "75+293+46+71"
   ]
  },
  {
   "cell_type": "code",
   "execution_count": 10,
   "metadata": {
    "colab": {
     "base_uri": "https://localhost:8080/"
    },
    "executionInfo": {
     "elapsed": 416,
     "status": "ok",
     "timestamp": 1694262888788,
     "user": {
      "displayName": "Tarun Ananthoji",
      "userId": "16248133775509476973"
     },
     "user_tz": -330
    },
    "id": "1JFnITz44Bc4",
    "outputId": "2eae7ded-c4e6-46fd-9f13-e4c56187cf60"
   },
   "outputs": [
    {
     "name": "stdout",
     "output_type": "stream",
     "text": [
      "        Genre  Average Rating  Average votes  Average Revenue\n",
      "0      Action        6.592491  235948.580205       122.093551\n",
      "1   Adventure        6.908000  225669.320000       113.453521\n",
      "2   Animation        7.324490  208159.428571       191.223404\n",
      "3   Biography        7.318750  153060.718750        55.954500\n",
      "4      Comedy        6.493143  115640.188571        51.582244\n",
      "5       Crime        6.807042  150124.957746        41.043519\n",
      "6       Drama        6.954872  129445.128205        35.874487\n",
      "7     Fantasy        5.850000  106723.000000        63.110000\n",
      "8      Horror        5.867391   79435.413043        39.946857\n",
      "9     Mystery        6.876923  218672.000000        64.379091\n",
      "10    Romance        6.600000  104572.000000        62.450000\n",
      "11     Sci-Fi        4.966667   57450.000000        42.635000\n",
      "12   Thriller        5.960000   31156.800000         0.320000\n"
     ]
    }
   ],
   "source": [
    "# Group the data by 'Genres' and calculate the desired metrics\n",
    "genre_report = df.groupby('Genre').agg({\n",
    "    'Rating':'mean',\n",
    "    'Votes':'mean',\n",
    "    'Revenue_millions':'mean'\n",
    "}).reset_index()\n",
    "\n",
    "genre_report.columns = ['Genre', 'Average Rating', 'Average votes', 'Average Revenue']\n",
    "\n",
    "print(genre_report)"
   ]
  },
  {
   "cell_type": "code",
   "execution_count": 13,
   "metadata": {
    "colab": {
     "base_uri": "https://localhost:8080/"
    },
    "executionInfo": {
     "elapsed": 389,
     "status": "ok",
     "timestamp": 1694263031416,
     "user": {
      "displayName": "Tarun Ananthoji",
      "userId": "16248133775509476973"
     },
     "user_tz": -330
    },
    "id": "d_KSapzH5uJ7",
    "outputId": "bf68243f-df0e-462a-dbec-8c2e1defe303"
   },
   "outputs": [
    {
     "name": "stdout",
     "output_type": "stream",
     "text": [
      "Average rating of the 'Horror' genre: 5.87\n"
     ]
    }
   ],
   "source": [
    "# Calculate the average rating of the 'Horror' genre\n",
    "average_rating_horror = df[df['Genre'].str.contains('Horror')]['Rating'].mean()\n",
    "\n",
    "# Round the average rating to two decimal places\n",
    "average_rating_horror = round(average_rating_horror, 2)\n",
    "\n",
    "# Display the result\n",
    "print(\"Average rating of the 'Horror' genre:\", average_rating_horror)"
   ]
  },
  {
   "cell_type": "code",
   "execution_count": 17,
   "metadata": {
    "id": "Ig1nsTs38jHq"
   },
   "outputs": [
    {
     "name": "stdout",
     "output_type": "stream",
     "text": [
      "Percentage revenue of the movie 'Split' in its genre and year: 29.42041024985622\n"
     ]
    }
   ],
   "source": [
    "genre_year_total_revenue = df.groupby(['Genre', 'Year'])['Revenue_millions'].transform('sum')\n",
    "\n",
    "split_revenue = df[(df['Title'] == 'Split')]['Revenue_millions'].values[0]\n",
    "\n",
    "percentage_revenue_split = (split_revenue * 100) / genre_year_total_revenue[df['Title'] == 'Split'].values[0]\n",
    "\n",
    "print(\"Percentage revenue of the movie 'Split' in its genre and year:\", percentage_revenue_split)"
   ]
  },
  {
   "cell_type": "code",
   "execution_count": 18,
   "metadata": {},
   "outputs": [
    {
     "name": "stdout",
     "output_type": "stream",
     "text": [
      "Average 'Votes_norm': 0.95\n"
     ]
    }
   ],
   "source": [
    "min_votes = df['Votes'].min()\n",
    "max_votes = df['Votes'].max()\n",
    "\n",
    "def normalize_votes(votes):\n",
    "    return ((votes - min_votes) * 10) / (max_votes - min_votes)\n",
    "\n",
    "df['Votes_norm'] = df['Votes'].apply(normalize_votes)\n",
    "\n",
    "average_votes_norm = df['Votes_norm'].mean().round(2)\n",
    "\n",
    "print(\"Average 'Votes_norm':\", average_votes_norm)"
   ]
  },
  {
   "cell_type": "code",
   "execution_count": 19,
   "metadata": {},
   "outputs": [
    {
     "name": "stdout",
     "output_type": "stream",
     "text": [
      "19.0\n"
     ]
    }
   ],
   "source": [
    "def Cal_total_rtg(row):\n",
    "    return row['Rating'] + row['Votes_norm']\n",
    "\n",
    "df['Total_rating'] = df.apply(Cal_total_rtg, axis=1)\n",
    "\n",
    "highest_total_rating = df['Total_rating'].max()\n",
    "\n",
    "print(highest_total_rating)"
   ]
  },
  {
   "cell_type": "code",
   "execution_count": 25,
   "metadata": {},
   "outputs": [
    {
     "name": "stdout",
     "output_type": "stream",
     "text": [
      "0-50\n"
     ]
    }
   ],
   "source": [
    "bins = [0, 50, 100, 150, float('inf')]\n",
    "labels = ['0-50', '51-100', '101-150', '150+']\n",
    "\n",
    "df['Revenue_bins'] = pd.cut(df['Revenue_millions'], bins=bins, labels=labels)\n",
    "\n",
    "highest_bucket = df['Revenue_bins'].value_counts().idxmax()\n",
    "\n",
    "print(highest_bucket)"
   ]
  },
  {
   "cell_type": "code",
   "execution_count": 31,
   "metadata": {},
   "outputs": [
    {
     "name": "stdout",
     "output_type": "stream",
     "text": [
      "644\n"
     ]
    }
   ],
   "source": [
    "df['Genre_Count'] = df['Genre'].str.split(', ').apply(len)\n",
    "\n",
    "directors_max_genre_count = df.groupby('Director')['Genre_Count'].max()\n",
    "\n",
    "max_genre_count = directors_max_genre_count.max()\n",
    "\n",
    "directors_with_max_genre_count = directors_max_genre_count[directors_max_genre_count == max_genre_count]\n",
    "\n",
    "count_directors_with_max_genre_count = len(directors_with_max_genre_count)\n",
    "\n",
    "print(count_directors_with_max_genre_count)"
   ]
  },
  {
   "cell_type": "code",
   "execution_count": 33,
   "metadata": {},
   "outputs": [
    {
     "data": {
      "text/html": [
       "<div>\n",
       "<style scoped>\n",
       "    .dataframe tbody tr th:only-of-type {\n",
       "        vertical-align: middle;\n",
       "    }\n",
       "\n",
       "    .dataframe tbody tr th {\n",
       "        vertical-align: top;\n",
       "    }\n",
       "\n",
       "    .dataframe thead th {\n",
       "        text-align: right;\n",
       "    }\n",
       "</style>\n",
       "<table border=\"1\" class=\"dataframe\">\n",
       "  <thead>\n",
       "    <tr style=\"text-align: right;\">\n",
       "      <th></th>\n",
       "      <th>ID</th>\n",
       "      <th>Title</th>\n",
       "      <th>Genre</th>\n",
       "      <th>Director</th>\n",
       "      <th>Year</th>\n",
       "      <th>Runtime_minutes</th>\n",
       "      <th>Rating</th>\n",
       "      <th>Votes</th>\n",
       "      <th>Revenue_millions</th>\n",
       "      <th>Votes_norm</th>\n",
       "      <th>Total_rating</th>\n",
       "      <th>Revene_bins</th>\n",
       "      <th>Revenue_bins</th>\n",
       "      <th>Genre_Count</th>\n",
       "    </tr>\n",
       "  </thead>\n",
       "  <tbody>\n",
       "    <tr>\n",
       "      <th>0</th>\n",
       "      <td>1</td>\n",
       "      <td>Guardians of the Galaxy</td>\n",
       "      <td>Action</td>\n",
       "      <td>James Gunn</td>\n",
       "      <td>2014</td>\n",
       "      <td>121</td>\n",
       "      <td>8.1</td>\n",
       "      <td>757074</td>\n",
       "      <td>333.13</td>\n",
       "      <td>4.224745</td>\n",
       "      <td>12.324745</td>\n",
       "      <td>150+</td>\n",
       "      <td>150+</td>\n",
       "      <td>1</td>\n",
       "    </tr>\n",
       "    <tr>\n",
       "      <th>1</th>\n",
       "      <td>2</td>\n",
       "      <td>Prometheus</td>\n",
       "      <td>Adventure</td>\n",
       "      <td>Ridley Scott</td>\n",
       "      <td>2012</td>\n",
       "      <td>124</td>\n",
       "      <td>7.0</td>\n",
       "      <td>485820</td>\n",
       "      <td>126.46</td>\n",
       "      <td>2.710928</td>\n",
       "      <td>9.710928</td>\n",
       "      <td>101-150</td>\n",
       "      <td>101-150</td>\n",
       "      <td>1</td>\n",
       "    </tr>\n",
       "    <tr>\n",
       "      <th>2</th>\n",
       "      <td>3</td>\n",
       "      <td>Split</td>\n",
       "      <td>Horror</td>\n",
       "      <td>M. Night Shyamalan</td>\n",
       "      <td>2016</td>\n",
       "      <td>117</td>\n",
       "      <td>7.3</td>\n",
       "      <td>157606</td>\n",
       "      <td>138.12</td>\n",
       "      <td>0.879229</td>\n",
       "      <td>8.179229</td>\n",
       "      <td>101-150</td>\n",
       "      <td>101-150</td>\n",
       "      <td>1</td>\n",
       "    </tr>\n",
       "    <tr>\n",
       "      <th>3</th>\n",
       "      <td>4</td>\n",
       "      <td>Sing</td>\n",
       "      <td>Animation</td>\n",
       "      <td>Christophe Lourdelet</td>\n",
       "      <td>2016</td>\n",
       "      <td>108</td>\n",
       "      <td>7.2</td>\n",
       "      <td>60545</td>\n",
       "      <td>270.32</td>\n",
       "      <td>0.337550</td>\n",
       "      <td>7.537550</td>\n",
       "      <td>150+</td>\n",
       "      <td>150+</td>\n",
       "      <td>1</td>\n",
       "    </tr>\n",
       "    <tr>\n",
       "      <th>4</th>\n",
       "      <td>5</td>\n",
       "      <td>Suicide Squad</td>\n",
       "      <td>Action</td>\n",
       "      <td>David Ayer</td>\n",
       "      <td>2016</td>\n",
       "      <td>123</td>\n",
       "      <td>6.2</td>\n",
       "      <td>393727</td>\n",
       "      <td>325.02</td>\n",
       "      <td>2.196975</td>\n",
       "      <td>8.396975</td>\n",
       "      <td>150+</td>\n",
       "      <td>150+</td>\n",
       "      <td>1</td>\n",
       "    </tr>\n",
       "    <tr>\n",
       "      <th>...</th>\n",
       "      <td>...</td>\n",
       "      <td>...</td>\n",
       "      <td>...</td>\n",
       "      <td>...</td>\n",
       "      <td>...</td>\n",
       "      <td>...</td>\n",
       "      <td>...</td>\n",
       "      <td>...</td>\n",
       "      <td>...</td>\n",
       "      <td>...</td>\n",
       "      <td>...</td>\n",
       "      <td>...</td>\n",
       "      <td>...</td>\n",
       "      <td>...</td>\n",
       "    </tr>\n",
       "    <tr>\n",
       "      <th>995</th>\n",
       "      <td>996</td>\n",
       "      <td>Secret in Their Eyes</td>\n",
       "      <td>Crime</td>\n",
       "      <td>Billy Ray</td>\n",
       "      <td>2015</td>\n",
       "      <td>111</td>\n",
       "      <td>6.2</td>\n",
       "      <td>27585</td>\n",
       "      <td>NaN</td>\n",
       "      <td>0.153606</td>\n",
       "      <td>6.353606</td>\n",
       "      <td>NaN</td>\n",
       "      <td>NaN</td>\n",
       "      <td>1</td>\n",
       "    </tr>\n",
       "    <tr>\n",
       "      <th>996</th>\n",
       "      <td>997</td>\n",
       "      <td>Hostel: Part II</td>\n",
       "      <td>Horror</td>\n",
       "      <td>Eli Roth</td>\n",
       "      <td>2007</td>\n",
       "      <td>94</td>\n",
       "      <td>5.5</td>\n",
       "      <td>73152</td>\n",
       "      <td>17.54</td>\n",
       "      <td>0.407907</td>\n",
       "      <td>5.907907</td>\n",
       "      <td>0-50</td>\n",
       "      <td>0-50</td>\n",
       "      <td>1</td>\n",
       "    </tr>\n",
       "    <tr>\n",
       "      <th>997</th>\n",
       "      <td>998</td>\n",
       "      <td>Step Up 2: The Streets</td>\n",
       "      <td>Drama</td>\n",
       "      <td>Jon M. Chu</td>\n",
       "      <td>2008</td>\n",
       "      <td>98</td>\n",
       "      <td>6.2</td>\n",
       "      <td>70699</td>\n",
       "      <td>58.01</td>\n",
       "      <td>0.394217</td>\n",
       "      <td>6.594217</td>\n",
       "      <td>51-100</td>\n",
       "      <td>51-100</td>\n",
       "      <td>1</td>\n",
       "    </tr>\n",
       "    <tr>\n",
       "      <th>998</th>\n",
       "      <td>999</td>\n",
       "      <td>Search Party</td>\n",
       "      <td>Adventure</td>\n",
       "      <td>Scot Armstrong</td>\n",
       "      <td>2014</td>\n",
       "      <td>93</td>\n",
       "      <td>5.6</td>\n",
       "      <td>4881</td>\n",
       "      <td>NaN</td>\n",
       "      <td>0.026899</td>\n",
       "      <td>5.626899</td>\n",
       "      <td>NaN</td>\n",
       "      <td>NaN</td>\n",
       "      <td>1</td>\n",
       "    </tr>\n",
       "    <tr>\n",
       "      <th>999</th>\n",
       "      <td>1000</td>\n",
       "      <td>Nine Lives</td>\n",
       "      <td>Comedy</td>\n",
       "      <td>Barry Sonnenfeld</td>\n",
       "      <td>2016</td>\n",
       "      <td>87</td>\n",
       "      <td>5.3</td>\n",
       "      <td>12435</td>\n",
       "      <td>19.64</td>\n",
       "      <td>0.069057</td>\n",
       "      <td>5.369057</td>\n",
       "      <td>0-50</td>\n",
       "      <td>0-50</td>\n",
       "      <td>1</td>\n",
       "    </tr>\n",
       "  </tbody>\n",
       "</table>\n",
       "<p>1000 rows × 14 columns</p>\n",
       "</div>"
      ],
      "text/plain": [
       "       ID                    Title      Genre              Director  Year  \\\n",
       "0       1  Guardians of the Galaxy     Action            James Gunn  2014   \n",
       "1       2               Prometheus  Adventure          Ridley Scott  2012   \n",
       "2       3                    Split     Horror    M. Night Shyamalan  2016   \n",
       "3       4                     Sing  Animation  Christophe Lourdelet  2016   \n",
       "4       5            Suicide Squad     Action            David Ayer  2016   \n",
       "..    ...                      ...        ...                   ...   ...   \n",
       "995   996     Secret in Their Eyes      Crime             Billy Ray  2015   \n",
       "996   997          Hostel: Part II     Horror              Eli Roth  2007   \n",
       "997   998   Step Up 2: The Streets      Drama            Jon M. Chu  2008   \n",
       "998   999             Search Party  Adventure        Scot Armstrong  2014   \n",
       "999  1000               Nine Lives     Comedy      Barry Sonnenfeld  2016   \n",
       "\n",
       "     Runtime_minutes  Rating   Votes  Revenue_millions  Votes_norm  \\\n",
       "0                121     8.1  757074            333.13    4.224745   \n",
       "1                124     7.0  485820            126.46    2.710928   \n",
       "2                117     7.3  157606            138.12    0.879229   \n",
       "3                108     7.2   60545            270.32    0.337550   \n",
       "4                123     6.2  393727            325.02    2.196975   \n",
       "..               ...     ...     ...               ...         ...   \n",
       "995              111     6.2   27585               NaN    0.153606   \n",
       "996               94     5.5   73152             17.54    0.407907   \n",
       "997               98     6.2   70699             58.01    0.394217   \n",
       "998               93     5.6    4881               NaN    0.026899   \n",
       "999               87     5.3   12435             19.64    0.069057   \n",
       "\n",
       "     Total_rating Revene_bins Revenue_bins  Genre_Count  \n",
       "0       12.324745        150+         150+            1  \n",
       "1        9.710928     101-150      101-150            1  \n",
       "2        8.179229     101-150      101-150            1  \n",
       "3        7.537550        150+         150+            1  \n",
       "4        8.396975        150+         150+            1  \n",
       "..            ...         ...          ...          ...  \n",
       "995      6.353606         NaN          NaN            1  \n",
       "996      5.907907        0-50         0-50            1  \n",
       "997      6.594217      51-100       51-100            1  \n",
       "998      5.626899         NaN          NaN            1  \n",
       "999      5.369057        0-50         0-50            1  \n",
       "\n",
       "[1000 rows x 14 columns]"
      ]
     },
     "execution_count": 33,
     "metadata": {},
     "output_type": "execute_result"
    }
   ],
   "source": [
    "df"
   ]
  },
  {
   "cell_type": "code",
   "execution_count": 46,
   "metadata": {},
   "outputs": [],
   "source": [
    "df_cleaned = df.dropna()"
   ]
  },
  {
   "cell_type": "code",
   "execution_count": 47,
   "metadata": {},
   "outputs": [
    {
     "data": {
      "text/html": [
       "<div>\n",
       "<style scoped>\n",
       "    .dataframe tbody tr th:only-of-type {\n",
       "        vertical-align: middle;\n",
       "    }\n",
       "\n",
       "    .dataframe tbody tr th {\n",
       "        vertical-align: top;\n",
       "    }\n",
       "\n",
       "    .dataframe thead th {\n",
       "        text-align: right;\n",
       "    }\n",
       "</style>\n",
       "<table border=\"1\" class=\"dataframe\">\n",
       "  <thead>\n",
       "    <tr style=\"text-align: right;\">\n",
       "      <th></th>\n",
       "      <th>ID</th>\n",
       "      <th>Title</th>\n",
       "      <th>Genre</th>\n",
       "      <th>Director</th>\n",
       "      <th>Year</th>\n",
       "      <th>Runtime_minutes</th>\n",
       "      <th>Rating</th>\n",
       "      <th>Votes</th>\n",
       "      <th>Revenue_millions</th>\n",
       "      <th>Votes_norm</th>\n",
       "      <th>Total_rating</th>\n",
       "      <th>Revene_bins</th>\n",
       "      <th>Revenue_bins</th>\n",
       "      <th>Genre_Count</th>\n",
       "    </tr>\n",
       "  </thead>\n",
       "  <tbody>\n",
       "    <tr>\n",
       "      <th>0</th>\n",
       "      <td>1</td>\n",
       "      <td>Guardians of the Galaxy</td>\n",
       "      <td>Action</td>\n",
       "      <td>James Gunn</td>\n",
       "      <td>2014</td>\n",
       "      <td>121</td>\n",
       "      <td>8.1</td>\n",
       "      <td>757074</td>\n",
       "      <td>333.13</td>\n",
       "      <td>4.224745</td>\n",
       "      <td>12.324745</td>\n",
       "      <td>150+</td>\n",
       "      <td>150+</td>\n",
       "      <td>1</td>\n",
       "    </tr>\n",
       "    <tr>\n",
       "      <th>1</th>\n",
       "      <td>2</td>\n",
       "      <td>Prometheus</td>\n",
       "      <td>Adventure</td>\n",
       "      <td>Ridley Scott</td>\n",
       "      <td>2012</td>\n",
       "      <td>124</td>\n",
       "      <td>7.0</td>\n",
       "      <td>485820</td>\n",
       "      <td>126.46</td>\n",
       "      <td>2.710928</td>\n",
       "      <td>9.710928</td>\n",
       "      <td>101-150</td>\n",
       "      <td>101-150</td>\n",
       "      <td>1</td>\n",
       "    </tr>\n",
       "    <tr>\n",
       "      <th>2</th>\n",
       "      <td>3</td>\n",
       "      <td>Split</td>\n",
       "      <td>Horror</td>\n",
       "      <td>M. Night Shyamalan</td>\n",
       "      <td>2016</td>\n",
       "      <td>117</td>\n",
       "      <td>7.3</td>\n",
       "      <td>157606</td>\n",
       "      <td>138.12</td>\n",
       "      <td>0.879229</td>\n",
       "      <td>8.179229</td>\n",
       "      <td>101-150</td>\n",
       "      <td>101-150</td>\n",
       "      <td>1</td>\n",
       "    </tr>\n",
       "    <tr>\n",
       "      <th>3</th>\n",
       "      <td>4</td>\n",
       "      <td>Sing</td>\n",
       "      <td>Animation</td>\n",
       "      <td>Christophe Lourdelet</td>\n",
       "      <td>2016</td>\n",
       "      <td>108</td>\n",
       "      <td>7.2</td>\n",
       "      <td>60545</td>\n",
       "      <td>270.32</td>\n",
       "      <td>0.337550</td>\n",
       "      <td>7.537550</td>\n",
       "      <td>150+</td>\n",
       "      <td>150+</td>\n",
       "      <td>1</td>\n",
       "    </tr>\n",
       "    <tr>\n",
       "      <th>4</th>\n",
       "      <td>5</td>\n",
       "      <td>Suicide Squad</td>\n",
       "      <td>Action</td>\n",
       "      <td>David Ayer</td>\n",
       "      <td>2016</td>\n",
       "      <td>123</td>\n",
       "      <td>6.2</td>\n",
       "      <td>393727</td>\n",
       "      <td>325.02</td>\n",
       "      <td>2.196975</td>\n",
       "      <td>8.396975</td>\n",
       "      <td>150+</td>\n",
       "      <td>150+</td>\n",
       "      <td>1</td>\n",
       "    </tr>\n",
       "    <tr>\n",
       "      <th>...</th>\n",
       "      <td>...</td>\n",
       "      <td>...</td>\n",
       "      <td>...</td>\n",
       "      <td>...</td>\n",
       "      <td>...</td>\n",
       "      <td>...</td>\n",
       "      <td>...</td>\n",
       "      <td>...</td>\n",
       "      <td>...</td>\n",
       "      <td>...</td>\n",
       "      <td>...</td>\n",
       "      <td>...</td>\n",
       "      <td>...</td>\n",
       "      <td>...</td>\n",
       "    </tr>\n",
       "    <tr>\n",
       "      <th>993</th>\n",
       "      <td>994</td>\n",
       "      <td>Resident Evil: Afterlife</td>\n",
       "      <td>Action</td>\n",
       "      <td>Paul W.S. Anderson</td>\n",
       "      <td>2010</td>\n",
       "      <td>97</td>\n",
       "      <td>5.9</td>\n",
       "      <td>140900</td>\n",
       "      <td>60.13</td>\n",
       "      <td>0.785996</td>\n",
       "      <td>6.685996</td>\n",
       "      <td>51-100</td>\n",
       "      <td>51-100</td>\n",
       "      <td>1</td>\n",
       "    </tr>\n",
       "    <tr>\n",
       "      <th>994</th>\n",
       "      <td>995</td>\n",
       "      <td>Project X</td>\n",
       "      <td>Comedy</td>\n",
       "      <td>Nima Nourizadeh</td>\n",
       "      <td>2012</td>\n",
       "      <td>88</td>\n",
       "      <td>6.7</td>\n",
       "      <td>164088</td>\n",
       "      <td>54.72</td>\n",
       "      <td>0.915403</td>\n",
       "      <td>7.615403</td>\n",
       "      <td>51-100</td>\n",
       "      <td>51-100</td>\n",
       "      <td>1</td>\n",
       "    </tr>\n",
       "    <tr>\n",
       "      <th>996</th>\n",
       "      <td>997</td>\n",
       "      <td>Hostel: Part II</td>\n",
       "      <td>Horror</td>\n",
       "      <td>Eli Roth</td>\n",
       "      <td>2007</td>\n",
       "      <td>94</td>\n",
       "      <td>5.5</td>\n",
       "      <td>73152</td>\n",
       "      <td>17.54</td>\n",
       "      <td>0.407907</td>\n",
       "      <td>5.907907</td>\n",
       "      <td>0-50</td>\n",
       "      <td>0-50</td>\n",
       "      <td>1</td>\n",
       "    </tr>\n",
       "    <tr>\n",
       "      <th>997</th>\n",
       "      <td>998</td>\n",
       "      <td>Step Up 2: The Streets</td>\n",
       "      <td>Drama</td>\n",
       "      <td>Jon M. Chu</td>\n",
       "      <td>2008</td>\n",
       "      <td>98</td>\n",
       "      <td>6.2</td>\n",
       "      <td>70699</td>\n",
       "      <td>58.01</td>\n",
       "      <td>0.394217</td>\n",
       "      <td>6.594217</td>\n",
       "      <td>51-100</td>\n",
       "      <td>51-100</td>\n",
       "      <td>1</td>\n",
       "    </tr>\n",
       "    <tr>\n",
       "      <th>999</th>\n",
       "      <td>1000</td>\n",
       "      <td>Nine Lives</td>\n",
       "      <td>Comedy</td>\n",
       "      <td>Barry Sonnenfeld</td>\n",
       "      <td>2016</td>\n",
       "      <td>87</td>\n",
       "      <td>5.3</td>\n",
       "      <td>12435</td>\n",
       "      <td>19.64</td>\n",
       "      <td>0.069057</td>\n",
       "      <td>5.369057</td>\n",
       "      <td>0-50</td>\n",
       "      <td>0-50</td>\n",
       "      <td>1</td>\n",
       "    </tr>\n",
       "  </tbody>\n",
       "</table>\n",
       "<p>871 rows × 14 columns</p>\n",
       "</div>"
      ],
      "text/plain": [
       "       ID                     Title      Genre              Director  Year  \\\n",
       "0       1   Guardians of the Galaxy     Action            James Gunn  2014   \n",
       "1       2                Prometheus  Adventure          Ridley Scott  2012   \n",
       "2       3                     Split     Horror    M. Night Shyamalan  2016   \n",
       "3       4                      Sing  Animation  Christophe Lourdelet  2016   \n",
       "4       5             Suicide Squad     Action            David Ayer  2016   \n",
       "..    ...                       ...        ...                   ...   ...   \n",
       "993   994  Resident Evil: Afterlife     Action    Paul W.S. Anderson  2010   \n",
       "994   995                 Project X     Comedy       Nima Nourizadeh  2012   \n",
       "996   997           Hostel: Part II     Horror              Eli Roth  2007   \n",
       "997   998    Step Up 2: The Streets      Drama            Jon M. Chu  2008   \n",
       "999  1000                Nine Lives     Comedy      Barry Sonnenfeld  2016   \n",
       "\n",
       "     Runtime_minutes  Rating   Votes  Revenue_millions  Votes_norm  \\\n",
       "0                121     8.1  757074            333.13    4.224745   \n",
       "1                124     7.0  485820            126.46    2.710928   \n",
       "2                117     7.3  157606            138.12    0.879229   \n",
       "3                108     7.2   60545            270.32    0.337550   \n",
       "4                123     6.2  393727            325.02    2.196975   \n",
       "..               ...     ...     ...               ...         ...   \n",
       "993               97     5.9  140900             60.13    0.785996   \n",
       "994               88     6.7  164088             54.72    0.915403   \n",
       "996               94     5.5   73152             17.54    0.407907   \n",
       "997               98     6.2   70699             58.01    0.394217   \n",
       "999               87     5.3   12435             19.64    0.069057   \n",
       "\n",
       "     Total_rating Revene_bins Revenue_bins  Genre_Count  \n",
       "0       12.324745        150+         150+            1  \n",
       "1        9.710928     101-150      101-150            1  \n",
       "2        8.179229     101-150      101-150            1  \n",
       "3        7.537550        150+         150+            1  \n",
       "4        8.396975        150+         150+            1  \n",
       "..            ...         ...          ...          ...  \n",
       "993      6.685996      51-100       51-100            1  \n",
       "994      7.615403      51-100       51-100            1  \n",
       "996      5.907907        0-50         0-50            1  \n",
       "997      6.594217      51-100       51-100            1  \n",
       "999      5.369057        0-50         0-50            1  \n",
       "\n",
       "[871 rows x 14 columns]"
      ]
     },
     "execution_count": 47,
     "metadata": {},
     "output_type": "execute_result"
    }
   ],
   "source": [
    "df_cleaned"
   ]
  },
  {
   "cell_type": "code",
   "execution_count": 48,
   "metadata": {},
   "outputs": [
    {
     "name": "stdout",
     "output_type": "stream",
     "text": [
      "539\n"
     ]
    },
    {
     "name": "stderr",
     "output_type": "stream",
     "text": [
      "C:\\Users\\LENOVO\\AppData\\Local\\Temp\\ipykernel_18312\\3577785016.py:1: SettingWithCopyWarning: \n",
      "A value is trying to be set on a copy of a slice from a DataFrame.\n",
      "Try using .loc[row_indexer,col_indexer] = value instead\n",
      "\n",
      "See the caveats in the documentation: https://pandas.pydata.org/pandas-docs/stable/user_guide/indexing.html#returning-a-view-versus-a-copy\n",
      "  df_cleaned['Genre_Count'] = df_cleaned['Genre'].str.split(', ').apply(len)\n"
     ]
    }
   ],
   "source": [
    "df_cleaned['Genre_Count'] = df_cleaned['Genre'].str.split(', ').apply(len)\n",
    "\n",
    "directors_max_genre_count = df_cleaned.groupby('Director')['Genre_Count'].max()\n",
    "\n",
    "max_genre_count = directors_max_genre_count.max()\n",
    "\n",
    "directors_with_max_genre_count = directors_max_genre_count[directors_max_genre_count == max_genre_count]\n",
    "\n",
    "count_directors_with_max_genre_count = len(directors_with_max_genre_count)\n",
    "\n",
    "print(count_directors_with_max_genre_count)"
   ]
  },
  {
   "cell_type": "code",
   "execution_count": null,
   "metadata": {},
   "outputs": [],
   "source": []
  }
 ],
 "metadata": {
  "colab": {
   "authorship_tag": "ABX9TyP5DbzFuq34jQCRFJN6mnf6",
   "provenance": []
  },
  "kernelspec": {
   "display_name": "Python 3 (ipykernel)",
   "language": "python",
   "name": "python3"
  },
  "language_info": {
   "codemirror_mode": {
    "name": "ipython",
    "version": 3
   },
   "file_extension": ".py",
   "mimetype": "text/x-python",
   "name": "python",
   "nbconvert_exporter": "python",
   "pygments_lexer": "ipython3",
   "version": "3.11.4"
  }
 },
 "nbformat": 4,
 "nbformat_minor": 4
}
