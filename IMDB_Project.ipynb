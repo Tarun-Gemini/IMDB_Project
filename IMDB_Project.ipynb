{
 "cells": [
  {
   "cell_type": "code",
   "execution_count": 1,
   "id": "056f5705-57ce-4664-80e4-ed369e4f8cdb",
   "metadata": {},
   "outputs": [],
   "source": [
    "import pandas as pd\n",
    "import numpy as np"
   ]
  },
  {
   "cell_type": "code",
   "execution_count": 3,
   "id": "212cbb24-5b58-4756-adef-d012fd041ea8",
   "metadata": {},
   "outputs": [],
   "source": [
    "import matplotlib"
   ]
  },
  {
   "cell_type": "code",
   "execution_count": 5,
   "id": "379ca3a2-35e1-4e82-9a59-a6c8babbfd1a",
   "metadata": {},
   "outputs": [
    {
     "data": {
      "text/html": [
       "<div>\n",
       "<style scoped>\n",
       "    .dataframe tbody tr th:only-of-type {\n",
       "        vertical-align: middle;\n",
       "    }\n",
       "\n",
       "    .dataframe tbody tr th {\n",
       "        vertical-align: top;\n",
       "    }\n",
       "\n",
       "    .dataframe thead th {\n",
       "        text-align: right;\n",
       "    }\n",
       "</style>\n",
       "<table border=\"1\" class=\"dataframe\">\n",
       "  <thead>\n",
       "    <tr style=\"text-align: right;\">\n",
       "      <th></th>\n",
       "      <th>ID</th>\n",
       "      <th>Title</th>\n",
       "      <th>Genre</th>\n",
       "      <th>Director</th>\n",
       "      <th>Year</th>\n",
       "      <th>Runtime_minutes</th>\n",
       "      <th>Rating</th>\n",
       "      <th>Votes</th>\n",
       "      <th>Revenue_millions</th>\n",
       "    </tr>\n",
       "  </thead>\n",
       "  <tbody>\n",
       "    <tr>\n",
       "      <th>0</th>\n",
       "      <td>1</td>\n",
       "      <td>Guardians of the Galaxy</td>\n",
       "      <td>Action</td>\n",
       "      <td>James Gunn</td>\n",
       "      <td>2014</td>\n",
       "      <td>121</td>\n",
       "      <td>8.1</td>\n",
       "      <td>757074</td>\n",
       "      <td>333.13</td>\n",
       "    </tr>\n",
       "    <tr>\n",
       "      <th>1</th>\n",
       "      <td>2</td>\n",
       "      <td>Prometheus</td>\n",
       "      <td>Adventure</td>\n",
       "      <td>Ridley Scott</td>\n",
       "      <td>2012</td>\n",
       "      <td>124</td>\n",
       "      <td>7.0</td>\n",
       "      <td>485820</td>\n",
       "      <td>126.46</td>\n",
       "    </tr>\n",
       "    <tr>\n",
       "      <th>2</th>\n",
       "      <td>3</td>\n",
       "      <td>Split</td>\n",
       "      <td>Horror</td>\n",
       "      <td>M. Night Shyamalan</td>\n",
       "      <td>2016</td>\n",
       "      <td>117</td>\n",
       "      <td>7.3</td>\n",
       "      <td>157606</td>\n",
       "      <td>138.12</td>\n",
       "    </tr>\n",
       "    <tr>\n",
       "      <th>3</th>\n",
       "      <td>4</td>\n",
       "      <td>Sing</td>\n",
       "      <td>Animation</td>\n",
       "      <td>Christophe Lourdelet</td>\n",
       "      <td>2016</td>\n",
       "      <td>108</td>\n",
       "      <td>7.2</td>\n",
       "      <td>60545</td>\n",
       "      <td>270.32</td>\n",
       "    </tr>\n",
       "    <tr>\n",
       "      <th>4</th>\n",
       "      <td>5</td>\n",
       "      <td>Suicide Squad</td>\n",
       "      <td>Action</td>\n",
       "      <td>David Ayer</td>\n",
       "      <td>2016</td>\n",
       "      <td>123</td>\n",
       "      <td>6.2</td>\n",
       "      <td>393727</td>\n",
       "      <td>325.02</td>\n",
       "    </tr>\n",
       "    <tr>\n",
       "      <th>...</th>\n",
       "      <td>...</td>\n",
       "      <td>...</td>\n",
       "      <td>...</td>\n",
       "      <td>...</td>\n",
       "      <td>...</td>\n",
       "      <td>...</td>\n",
       "      <td>...</td>\n",
       "      <td>...</td>\n",
       "      <td>...</td>\n",
       "    </tr>\n",
       "    <tr>\n",
       "      <th>995</th>\n",
       "      <td>996</td>\n",
       "      <td>Secret in Their Eyes</td>\n",
       "      <td>Crime</td>\n",
       "      <td>Billy Ray</td>\n",
       "      <td>2015</td>\n",
       "      <td>111</td>\n",
       "      <td>6.2</td>\n",
       "      <td>27585</td>\n",
       "      <td>NaN</td>\n",
       "    </tr>\n",
       "    <tr>\n",
       "      <th>996</th>\n",
       "      <td>997</td>\n",
       "      <td>Hostel: Part II</td>\n",
       "      <td>Horror</td>\n",
       "      <td>Eli Roth</td>\n",
       "      <td>2007</td>\n",
       "      <td>94</td>\n",
       "      <td>5.5</td>\n",
       "      <td>73152</td>\n",
       "      <td>17.54</td>\n",
       "    </tr>\n",
       "    <tr>\n",
       "      <th>997</th>\n",
       "      <td>998</td>\n",
       "      <td>Step Up 2: The Streets</td>\n",
       "      <td>Drama</td>\n",
       "      <td>Jon M. Chu</td>\n",
       "      <td>2008</td>\n",
       "      <td>98</td>\n",
       "      <td>6.2</td>\n",
       "      <td>70699</td>\n",
       "      <td>58.01</td>\n",
       "    </tr>\n",
       "    <tr>\n",
       "      <th>998</th>\n",
       "      <td>999</td>\n",
       "      <td>Search Party</td>\n",
       "      <td>Adventure</td>\n",
       "      <td>Scot Armstrong</td>\n",
       "      <td>2014</td>\n",
       "      <td>93</td>\n",
       "      <td>5.6</td>\n",
       "      <td>4881</td>\n",
       "      <td>NaN</td>\n",
       "    </tr>\n",
       "    <tr>\n",
       "      <th>999</th>\n",
       "      <td>1000</td>\n",
       "      <td>Nine Lives</td>\n",
       "      <td>Comedy</td>\n",
       "      <td>Barry Sonnenfeld</td>\n",
       "      <td>2016</td>\n",
       "      <td>87</td>\n",
       "      <td>5.3</td>\n",
       "      <td>12435</td>\n",
       "      <td>19.64</td>\n",
       "    </tr>\n",
       "  </tbody>\n",
       "</table>\n",
       "<p>1000 rows × 9 columns</p>\n",
       "</div>"
      ],
      "text/plain": [
       "       ID                    Title      Genre              Director  Year  \\\n",
       "0       1  Guardians of the Galaxy     Action            James Gunn  2014   \n",
       "1       2               Prometheus  Adventure          Ridley Scott  2012   \n",
       "2       3                    Split     Horror    M. Night Shyamalan  2016   \n",
       "3       4                     Sing  Animation  Christophe Lourdelet  2016   \n",
       "4       5            Suicide Squad     Action            David Ayer  2016   \n",
       "..    ...                      ...        ...                   ...   ...   \n",
       "995   996     Secret in Their Eyes      Crime             Billy Ray  2015   \n",
       "996   997          Hostel: Part II     Horror              Eli Roth  2007   \n",
       "997   998   Step Up 2: The Streets      Drama            Jon M. Chu  2008   \n",
       "998   999             Search Party  Adventure        Scot Armstrong  2014   \n",
       "999  1000               Nine Lives     Comedy      Barry Sonnenfeld  2016   \n",
       "\n",
       "     Runtime_minutes  Rating   Votes  Revenue_millions  \n",
       "0                121     8.1  757074            333.13  \n",
       "1                124     7.0  485820            126.46  \n",
       "2                117     7.3  157606            138.12  \n",
       "3                108     7.2   60545            270.32  \n",
       "4                123     6.2  393727            325.02  \n",
       "..               ...     ...     ...               ...  \n",
       "995              111     6.2   27585               NaN  \n",
       "996               94     5.5   73152             17.54  \n",
       "997               98     6.2   70699             58.01  \n",
       "998               93     5.6    4881               NaN  \n",
       "999               87     5.3   12435             19.64  \n",
       "\n",
       "[1000 rows x 9 columns]"
      ]
     },
     "execution_count": 5,
     "metadata": {},
     "output_type": "execute_result"
    }
   ],
   "source": [
    "df = pd.read_csv(r'C:\\Users\\LENOVO\\Desktop\\Desk Files/IMDBMovie.csv')\n",
    "df"
   ]
  },
  {
   "cell_type": "code",
   "execution_count": 9,
   "id": "814638da-3ec0-4da9-bf48-fa1588b1eae1",
   "metadata": {},
   "outputs": [
    {
     "data": {
      "text/plain": [
       "1000"
      ]
     },
     "execution_count": 9,
     "metadata": {},
     "output_type": "execute_result"
    }
   ],
   "source": [
    "len(df)"
   ]
  },
  {
   "cell_type": "markdown",
   "id": "d55fbbd9-e047-42a6-b1b9-9dde46686430",
   "metadata": {},
   "source": [
    "What is the 75th percentile of rating in the IMDB dataset?"
   ]
  },
  {
   "cell_type": "code",
   "execution_count": 8,
   "id": "659849f8-0a84-4601-bdaa-6d3182092925",
   "metadata": {},
   "outputs": [
    {
     "data": {
      "text/plain": [
       "7.4"
      ]
     },
     "execution_count": 8,
     "metadata": {},
     "output_type": "execute_result"
    }
   ],
   "source": [
    "rating_75th = df['Rating'].quantile(0.75)\n",
    "rating_75th"
   ]
  },
  {
   "cell_type": "markdown",
   "id": "8276ab01-adaf-4b86-96ed-48e9ac5abf74",
   "metadata": {},
   "source": [
    "How many NA values are there in the field ‘Revenue’?"
   ]
  },
  {
   "cell_type": "code",
   "execution_count": 13,
   "id": "f160cd28-be14-41c3-8eb1-07682ab41dce",
   "metadata": {},
   "outputs": [
    {
     "data": {
      "text/plain": [
       "128"
      ]
     },
     "execution_count": 13,
     "metadata": {},
     "output_type": "execute_result"
    }
   ],
   "source": [
    "df['Revenue_millions'].isnull().sum()"
   ]
  },
  {
   "cell_type": "markdown",
   "id": "a5415d94-5391-4c7f-8fa1-05ad9fff4acb",
   "metadata": {},
   "source": [
    "Data slicing:\n",
    "\n",
    "We need to slice and dice the data to get a fair understanding of top earning movies, underrated movies and some additional statistics such as yearly revenue and average ratings"
   ]
  },
  {
   "cell_type": "markdown",
   "id": "8c22e378-158e-48d4-b6e6-8064c42b08e4",
   "metadata": {},
   "source": [
    "How many movies have revenue higher than 75 million?"
   ]
  },
  {
   "cell_type": "code",
   "execution_count": 17,
   "id": "638ebb4b-6d34-499d-bcde-9be38622d6ea",
   "metadata": {},
   "outputs": [
    {
     "data": {
      "text/plain": [
       "318"
      ]
     },
     "execution_count": 17,
     "metadata": {},
     "output_type": "execute_result"
    }
   ],
   "source": [
    "movies_with_higher_revenue_75 = len(df[df['Revenue_millions']>75])\n",
    "movies_with_higher_revenue_75"
   ]
  },
  {
   "cell_type": "markdown",
   "id": "890f932a-3a42-4f7f-b8ee-59258b5f2ee1",
   "metadata": {},
   "source": [
    "How many movies have revenue greater than 50 million but rating less than 7?"
   ]
  },
  {
   "cell_type": "code",
   "execution_count": 24,
   "id": "07902cd1-b456-4698-9359-3f7761345ce0",
   "metadata": {},
   "outputs": [
    {
     "data": {
      "text/plain": [
       "211"
      ]
     },
     "execution_count": 24,
     "metadata": {},
     "output_type": "execute_result"
    }
   ],
   "source": [
    "count_movies = len(df[(df['Revenue_millions']>50) & (df['Rating']<7)])\n",
    "count_movies"
   ]
  },
  {
   "cell_type": "markdown",
   "id": "5f18733a-d78b-4bd5-9a6d-eb50ff95dfbe",
   "metadata": {},
   "source": [
    "What is the total revenue generated by movies in the year 2015?"
   ]
  },
  {
   "cell_type": "code",
   "execution_count": 26,
   "id": "5da1ffeb-b9e2-4369-a493-3524462af1b1",
   "metadata": {},
   "outputs": [
    {
     "data": {
      "text/plain": [
       "8854.12"
      ]
     },
     "execution_count": 26,
     "metadata": {},
     "output_type": "execute_result"
    }
   ],
   "source": [
    "revenue_generated_2015 = df[df['Year']==2015]['Revenue_millions'].sum()\n",
    "round(revenue_generated_2015, 2)"
   ]
  },
  {
   "cell_type": "markdown",
   "id": "98c8158d-1d8c-4286-b6a0-30c9976921d7",
   "metadata": {},
   "source": [
    "What is the average rating for the genre adventure in the year 2015?"
   ]
  },
  {
   "cell_type": "code",
   "execution_count": 29,
   "id": "10843b56-4415-475f-bc61-2205641cdad2",
   "metadata": {},
   "outputs": [
    {
     "data": {
      "text/plain": [
       "6.8"
      ]
     },
     "execution_count": 29,
     "metadata": {},
     "output_type": "execute_result"
    }
   ],
   "source": [
    "average_rtg_adventure = df[(df['Year']==2015) & (df['Genre']=='Adventure')]['Rating'].mean()\n",
    "average_rtg_adventure"
   ]
  },
  {
   "cell_type": "markdown",
   "id": "6754cb14-afaf-4014-8f7f-6d3d34837d49",
   "metadata": {},
   "source": [
    "What is the average duration of movies in rows 75 to 150? Please note that the rows in python start from 0."
   ]
  },
  {
   "cell_type": "code",
   "execution_count": 31,
   "id": "43275fe3-11df-493a-913a-60c4c4015ac4",
   "metadata": {},
   "outputs": [
    {
     "data": {
      "text/plain": [
       "127.61"
      ]
     },
     "execution_count": 31,
     "metadata": {},
     "output_type": "execute_result"
    }
   ],
   "source": [
    "average_duration_movies = df.iloc[75:150]['Runtime_minutes'].mean()\n",
    "round(average_duration_movies, 2)"
   ]
  },
  {
   "cell_type": "markdown",
   "id": "6bdda703-7c5c-4d32-bd0d-8f0cd813eac6",
   "metadata": {},
   "source": [
    "Which year generated the highest revenue?"
   ]
  },
  {
   "cell_type": "code",
   "execution_count": 32,
   "id": "3d4e693c-952c-4200-975c-b641ae8303e6",
   "metadata": {},
   "outputs": [
    {
     "data": {
      "text/plain": [
       "2016"
      ]
     },
     "execution_count": 32,
     "metadata": {},
     "output_type": "execute_result"
    }
   ],
   "source": [
    "Highest_revenue_year =  df.groupby('Year')['Revenue_millions'].sum()\n",
    "Highest_revenue_year.idxmax()"
   ]
  },
  {
   "cell_type": "markdown",
   "id": "f8f22d61-6e74-424f-911c-a911b0ea44e2",
   "metadata": {},
   "source": [
    "What is the maximum revenue out of (10,20,30,40,50) rows?"
   ]
  },
  {
   "cell_type": "code",
   "execution_count": 34,
   "id": "faade757-b87b-4748-a557-8c3e1e84f13f",
   "metadata": {},
   "outputs": [
    {
     "data": {
      "text/plain": [
       "936.63"
      ]
     },
     "execution_count": 34,
     "metadata": {},
     "output_type": "execute_result"
    }
   ],
   "source": [
    "max_revenue = df.iloc[10:51]['Revenue_millions'].max()\n",
    "max_revenue"
   ]
  },
  {
   "cell_type": "markdown",
   "id": "c2366ee0-b9a5-4ce6-8f1f-d0ee766dd7fe",
   "metadata": {},
   "source": [
    "How many movies with the genres ‘Adventure’, ‘Action’, ‘Horror’, and ‘Crime’ exist in the IMDB dataset?"
   ]
  },
  {
   "cell_type": "code",
   "execution_count": 50,
   "id": "0bb272da-f4c0-4d8d-a240-ec29db7d0708",
   "metadata": {},
   "outputs": [
    {
     "data": {
      "text/plain": [
       "485"
      ]
     },
     "execution_count": 50,
     "metadata": {},
     "output_type": "execute_result"
    }
   ],
   "source": [
    "n_movies_per_genre = df[\"Genre\"].str.split(\",\").apply(lambda x: x.count(Genre) for Genre in Genres)\n",
    "\n",
    "n_movies = n_movies_per_genre.sum()\n",
    "n_movies.sum()"
   ]
  },
  {
   "cell_type": "markdown",
   "id": "469cfd8a-3479-4f15-9653-06e101392653",
   "metadata": {},
   "source": [
    "Create a genre-level report with metrics average rating, the average number of votes, and average revenue. What is the average rating of the ‘Horror’ genre? (Round to 2 decimal places)"
   ]
  },
  {
   "cell_type": "code",
   "execution_count": 52,
   "id": "13ec2e84-5cfb-4dd9-a325-db691006001a",
   "metadata": {},
   "outputs": [
    {
     "data": {
      "text/html": [
       "<div>\n",
       "<style scoped>\n",
       "    .dataframe tbody tr th:only-of-type {\n",
       "        vertical-align: middle;\n",
       "    }\n",
       "\n",
       "    .dataframe tbody tr th {\n",
       "        vertical-align: top;\n",
       "    }\n",
       "\n",
       "    .dataframe thead th {\n",
       "        text-align: right;\n",
       "    }\n",
       "</style>\n",
       "<table border=\"1\" class=\"dataframe\">\n",
       "  <thead>\n",
       "    <tr style=\"text-align: right;\">\n",
       "      <th></th>\n",
       "      <th>Genre</th>\n",
       "      <th>Average Rating</th>\n",
       "      <th>Average votes</th>\n",
       "      <th>Average Revenue</th>\n",
       "    </tr>\n",
       "  </thead>\n",
       "  <tbody>\n",
       "    <tr>\n",
       "      <th>0</th>\n",
       "      <td>Action</td>\n",
       "      <td>6.59</td>\n",
       "      <td>235948.58</td>\n",
       "      <td>122.09</td>\n",
       "    </tr>\n",
       "    <tr>\n",
       "      <th>1</th>\n",
       "      <td>Adventure</td>\n",
       "      <td>6.91</td>\n",
       "      <td>225669.32</td>\n",
       "      <td>113.45</td>\n",
       "    </tr>\n",
       "    <tr>\n",
       "      <th>2</th>\n",
       "      <td>Animation</td>\n",
       "      <td>7.32</td>\n",
       "      <td>208159.43</td>\n",
       "      <td>191.22</td>\n",
       "    </tr>\n",
       "    <tr>\n",
       "      <th>3</th>\n",
       "      <td>Biography</td>\n",
       "      <td>7.32</td>\n",
       "      <td>153060.72</td>\n",
       "      <td>55.95</td>\n",
       "    </tr>\n",
       "    <tr>\n",
       "      <th>4</th>\n",
       "      <td>Comedy</td>\n",
       "      <td>6.49</td>\n",
       "      <td>115640.19</td>\n",
       "      <td>51.58</td>\n",
       "    </tr>\n",
       "    <tr>\n",
       "      <th>5</th>\n",
       "      <td>Crime</td>\n",
       "      <td>6.81</td>\n",
       "      <td>150124.96</td>\n",
       "      <td>41.04</td>\n",
       "    </tr>\n",
       "    <tr>\n",
       "      <th>6</th>\n",
       "      <td>Drama</td>\n",
       "      <td>6.95</td>\n",
       "      <td>129445.13</td>\n",
       "      <td>35.87</td>\n",
       "    </tr>\n",
       "    <tr>\n",
       "      <th>7</th>\n",
       "      <td>Fantasy</td>\n",
       "      <td>5.85</td>\n",
       "      <td>106723.00</td>\n",
       "      <td>63.11</td>\n",
       "    </tr>\n",
       "    <tr>\n",
       "      <th>8</th>\n",
       "      <td>Horror</td>\n",
       "      <td>5.87</td>\n",
       "      <td>79435.41</td>\n",
       "      <td>39.95</td>\n",
       "    </tr>\n",
       "    <tr>\n",
       "      <th>9</th>\n",
       "      <td>Mystery</td>\n",
       "      <td>6.88</td>\n",
       "      <td>218672.00</td>\n",
       "      <td>64.38</td>\n",
       "    </tr>\n",
       "    <tr>\n",
       "      <th>10</th>\n",
       "      <td>Romance</td>\n",
       "      <td>6.60</td>\n",
       "      <td>104572.00</td>\n",
       "      <td>62.45</td>\n",
       "    </tr>\n",
       "    <tr>\n",
       "      <th>11</th>\n",
       "      <td>Sci-Fi</td>\n",
       "      <td>4.97</td>\n",
       "      <td>57450.00</td>\n",
       "      <td>42.64</td>\n",
       "    </tr>\n",
       "    <tr>\n",
       "      <th>12</th>\n",
       "      <td>Thriller</td>\n",
       "      <td>5.96</td>\n",
       "      <td>31156.80</td>\n",
       "      <td>0.32</td>\n",
       "    </tr>\n",
       "  </tbody>\n",
       "</table>\n",
       "</div>"
      ],
      "text/plain": [
       "        Genre  Average Rating  Average votes  Average Revenue\n",
       "0      Action            6.59      235948.58           122.09\n",
       "1   Adventure            6.91      225669.32           113.45\n",
       "2   Animation            7.32      208159.43           191.22\n",
       "3   Biography            7.32      153060.72            55.95\n",
       "4      Comedy            6.49      115640.19            51.58\n",
       "5       Crime            6.81      150124.96            41.04\n",
       "6       Drama            6.95      129445.13            35.87\n",
       "7     Fantasy            5.85      106723.00            63.11\n",
       "8      Horror            5.87       79435.41            39.95\n",
       "9     Mystery            6.88      218672.00            64.38\n",
       "10    Romance            6.60      104572.00            62.45\n",
       "11     Sci-Fi            4.97       57450.00            42.64\n",
       "12   Thriller            5.96       31156.80             0.32"
      ]
     },
     "execution_count": 52,
     "metadata": {},
     "output_type": "execute_result"
    }
   ],
   "source": [
    "genre_report = df.groupby('Genre').agg({\n",
    "    'Rating': 'mean',\n",
    "    'Votes' : 'mean',\n",
    "    'Revenue_millions' : 'mean'}).reset_index()\n",
    "\n",
    "genre_report.columns = ['Genre', 'Average Rating', 'Average votes', 'Average Revenue']\n",
    "\n",
    "round(genre_report, 2)"
   ]
  },
  {
   "cell_type": "markdown",
   "id": "2d215347-3c32-4549-a439-fd28238e52e8",
   "metadata": {},
   "source": [
    "Create a report to showcase the revenue of each movie, as % revenue concerning the total revenue of the respective genre and year of the movie.\n",
    "What is the  % revenue of the movie ‘Split’ in its respective genre and year?\r\n"
   ]
  },
  {
   "cell_type": "code",
   "execution_count": 57,
   "id": "5f642698-a749-4065-89ef-a6d40854e80f",
   "metadata": {},
   "outputs": [
    {
     "data": {
      "text/plain": [
       "29.42"
      ]
     },
     "execution_count": 57,
     "metadata": {},
     "output_type": "execute_result"
    }
   ],
   "source": [
    "genre_year_total_revenue = df.groupby(['Genre','Year'])['Revenue_millions'].transform('sum')\n",
    "\n",
    "split_revenue = df[(df['Title']=='Split')]['Revenue_millions'].values[0]\n",
    "\n",
    "percentage_revenue_split = (split_revenue * 100)/genre_year_total_revenue[df['Title']=='Split'].values[0]\n",
    "\n",
    "round(percentage_revenue_split, 2)"
   ]
  },
  {
   "cell_type": "markdown",
   "id": "3b7aa2d7-8e73-4d18-8210-bf54b9fca940",
   "metadata": {},
   "source": [
    "What is the average ‘Votes_norm’ ?"
   ]
  },
  {
   "cell_type": "code",
   "execution_count": 58,
   "id": "fe240eb7-50f2-45ab-ab6b-d1c55aa1bb7a",
   "metadata": {},
   "outputs": [
    {
     "data": {
      "text/plain": [
       "0.95"
      ]
     },
     "execution_count": 58,
     "metadata": {},
     "output_type": "execute_result"
    }
   ],
   "source": [
    "max_votes = df['Votes'].max()\n",
    "min_votes = df['Votes'].min()\n",
    "\n",
    "def normalize_votes(votes):\n",
    "    return ((votes - min_votes) * 10)/(max_votes - min_votes)\n",
    "\n",
    "df['votes_norm'] = df['Votes'].apply(normalize_votes)\n",
    "\n",
    "average_votes_norm = df['votes_norm'].mean().round(2)\n",
    "\n",
    "average_votes_norm"
   ]
  },
  {
   "cell_type": "markdown",
   "id": "970034bd-b827-4511-a2f4-8bb64234d6ed",
   "metadata": {},
   "source": [
    "What is the highest ‘Total_rating’ ?"
   ]
  },
  {
   "cell_type": "code",
   "execution_count": 60,
   "id": "a076b06b-be99-4b1c-ab99-2640bf6a8906",
   "metadata": {},
   "outputs": [
    {
     "data": {
      "text/plain": [
       "19.0"
      ]
     },
     "execution_count": 60,
     "metadata": {},
     "output_type": "execute_result"
    }
   ],
   "source": [
    "def Cal_total_rtg(row):\n",
    "    return row['Rating'] + row['votes_norm']\n",
    "\n",
    "df['Total_rating'] = df.apply(Cal_total_rtg, axis=1)\n",
    "\n",
    "highest_total_rating = df['Total_rating'].max()\n",
    "highest_total_rating"
   ]
  },
  {
   "cell_type": "markdown",
   "id": "3105340e-848c-4a99-8504-0fd3aafd6219",
   "metadata": {},
   "source": [
    "Create a new column ‘Revenue_bins’ so that ‘Revenue_millions’ are categorized in buckets 0-50, 51-100, 101-150, and 150+. Which bucket has the highest number of movies?"
   ]
  },
  {
   "cell_type": "code",
   "execution_count": 62,
   "id": "b0468ebc-f6f1-47f2-bf01-e2b648c0847d",
   "metadata": {},
   "outputs": [
    {
     "data": {
      "text/plain": [
       "'0-50'"
      ]
     },
     "execution_count": 62,
     "metadata": {},
     "output_type": "execute_result"
    }
   ],
   "source": [
    "bins = [0, 50, 100, 150, float('inf')]\n",
    "labels = ['0-50', '51-100', '101-150', '150+']\n",
    "\n",
    "df['Revenue_bins'] = pd.cut(df['Revenue_millions'], bins=bins, labels=labels)\n",
    "\n",
    "highest_bucket = df['Revenue_bins'].value_counts().idxmax()\n",
    "\n",
    "highest_bucket"
   ]
  },
  {
   "cell_type": "markdown",
   "id": "1dc66379-a731-4232-8c64-17d1dc143f8a",
   "metadata": {},
   "source": [
    "*** END ***"
   ]
  }
 ],
 "metadata": {
  "kernelspec": {
   "display_name": "Python 3 (ipykernel)",
   "language": "python",
   "name": "python3"
  },
  "language_info": {
   "codemirror_mode": {
    "name": "ipython",
    "version": 3
   },
   "file_extension": ".py",
   "mimetype": "text/x-python",
   "name": "python",
   "nbconvert_exporter": "python",
   "pygments_lexer": "ipython3",
   "version": "3.11.4"
  }
 },
 "nbformat": 4,
 "nbformat_minor": 5
}
