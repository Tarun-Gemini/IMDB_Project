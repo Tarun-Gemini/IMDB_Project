{
 "cells": [
  {
   "cell_type": "code",
   "execution_count": 1,
   "id": "056f5705-57ce-4664-80e4-ed369e4f8cdb",
   "metadata": {},
   "outputs": [],
   "source": [
    "import pandas as pd\n",
    "import numpy as np"
   ]
  },
  {
   "cell_type": "code",
   "execution_count": 2,
   "id": "212cbb24-5b58-4756-adef-d012fd041ea8",
   "metadata": {},
   "outputs": [],
   "source": [
    "import matplotlib.pyplot as plt"
   ]
  },
  {
   "cell_type": "code",
   "execution_count": 3,
   "id": "379ca3a2-35e1-4e82-9a59-a6c8babbfd1a",
   "metadata": {},
   "outputs": [
    {
     "data": {
      "text/html": [
       "<div>\n",
       "<style scoped>\n",
       "    .dataframe tbody tr th:only-of-type {\n",
       "        vertical-align: middle;\n",
       "    }\n",
       "\n",
       "    .dataframe tbody tr th {\n",
       "        vertical-align: top;\n",
       "    }\n",
       "\n",
       "    .dataframe thead th {\n",
       "        text-align: right;\n",
       "    }\n",
       "</style>\n",
       "<table border=\"1\" class=\"dataframe\">\n",
       "  <thead>\n",
       "    <tr style=\"text-align: right;\">\n",
       "      <th></th>\n",
       "      <th>ID</th>\n",
       "      <th>Title</th>\n",
       "      <th>Genre</th>\n",
       "      <th>Director</th>\n",
       "      <th>Year</th>\n",
       "      <th>Runtime_minutes</th>\n",
       "      <th>Rating</th>\n",
       "      <th>Votes</th>\n",
       "      <th>Revenue_millions</th>\n",
       "    </tr>\n",
       "  </thead>\n",
       "  <tbody>\n",
       "    <tr>\n",
       "      <th>0</th>\n",
       "      <td>1</td>\n",
       "      <td>Guardians of the Galaxy</td>\n",
       "      <td>Action</td>\n",
       "      <td>James Gunn</td>\n",
       "      <td>2014</td>\n",
       "      <td>121</td>\n",
       "      <td>8.1</td>\n",
       "      <td>757074</td>\n",
       "      <td>333.13</td>\n",
       "    </tr>\n",
       "    <tr>\n",
       "      <th>1</th>\n",
       "      <td>2</td>\n",
       "      <td>Prometheus</td>\n",
       "      <td>Adventure</td>\n",
       "      <td>Ridley Scott</td>\n",
       "      <td>2012</td>\n",
       "      <td>124</td>\n",
       "      <td>7.0</td>\n",
       "      <td>485820</td>\n",
       "      <td>126.46</td>\n",
       "    </tr>\n",
       "    <tr>\n",
       "      <th>2</th>\n",
       "      <td>3</td>\n",
       "      <td>Split</td>\n",
       "      <td>Horror</td>\n",
       "      <td>M. Night Shyamalan</td>\n",
       "      <td>2016</td>\n",
       "      <td>117</td>\n",
       "      <td>7.3</td>\n",
       "      <td>157606</td>\n",
       "      <td>138.12</td>\n",
       "    </tr>\n",
       "    <tr>\n",
       "      <th>3</th>\n",
       "      <td>4</td>\n",
       "      <td>Sing</td>\n",
       "      <td>Animation</td>\n",
       "      <td>Christophe Lourdelet</td>\n",
       "      <td>2016</td>\n",
       "      <td>108</td>\n",
       "      <td>7.2</td>\n",
       "      <td>60545</td>\n",
       "      <td>270.32</td>\n",
       "    </tr>\n",
       "    <tr>\n",
       "      <th>4</th>\n",
       "      <td>5</td>\n",
       "      <td>Suicide Squad</td>\n",
       "      <td>Action</td>\n",
       "      <td>David Ayer</td>\n",
       "      <td>2016</td>\n",
       "      <td>123</td>\n",
       "      <td>6.2</td>\n",
       "      <td>393727</td>\n",
       "      <td>325.02</td>\n",
       "    </tr>\n",
       "    <tr>\n",
       "      <th>...</th>\n",
       "      <td>...</td>\n",
       "      <td>...</td>\n",
       "      <td>...</td>\n",
       "      <td>...</td>\n",
       "      <td>...</td>\n",
       "      <td>...</td>\n",
       "      <td>...</td>\n",
       "      <td>...</td>\n",
       "      <td>...</td>\n",
       "    </tr>\n",
       "    <tr>\n",
       "      <th>995</th>\n",
       "      <td>996</td>\n",
       "      <td>Secret in Their Eyes</td>\n",
       "      <td>Crime</td>\n",
       "      <td>Billy Ray</td>\n",
       "      <td>2015</td>\n",
       "      <td>111</td>\n",
       "      <td>6.2</td>\n",
       "      <td>27585</td>\n",
       "      <td>NaN</td>\n",
       "    </tr>\n",
       "    <tr>\n",
       "      <th>996</th>\n",
       "      <td>997</td>\n",
       "      <td>Hostel: Part II</td>\n",
       "      <td>Horror</td>\n",
       "      <td>Eli Roth</td>\n",
       "      <td>2007</td>\n",
       "      <td>94</td>\n",
       "      <td>5.5</td>\n",
       "      <td>73152</td>\n",
       "      <td>17.54</td>\n",
       "    </tr>\n",
       "    <tr>\n",
       "      <th>997</th>\n",
       "      <td>998</td>\n",
       "      <td>Step Up 2: The Streets</td>\n",
       "      <td>Drama</td>\n",
       "      <td>Jon M. Chu</td>\n",
       "      <td>2008</td>\n",
       "      <td>98</td>\n",
       "      <td>6.2</td>\n",
       "      <td>70699</td>\n",
       "      <td>58.01</td>\n",
       "    </tr>\n",
       "    <tr>\n",
       "      <th>998</th>\n",
       "      <td>999</td>\n",
       "      <td>Search Party</td>\n",
       "      <td>Adventure</td>\n",
       "      <td>Scot Armstrong</td>\n",
       "      <td>2014</td>\n",
       "      <td>93</td>\n",
       "      <td>5.6</td>\n",
       "      <td>4881</td>\n",
       "      <td>NaN</td>\n",
       "    </tr>\n",
       "    <tr>\n",
       "      <th>999</th>\n",
       "      <td>1000</td>\n",
       "      <td>Nine Lives</td>\n",
       "      <td>Comedy</td>\n",
       "      <td>Barry Sonnenfeld</td>\n",
       "      <td>2016</td>\n",
       "      <td>87</td>\n",
       "      <td>5.3</td>\n",
       "      <td>12435</td>\n",
       "      <td>19.64</td>\n",
       "    </tr>\n",
       "  </tbody>\n",
       "</table>\n",
       "<p>1000 rows × 9 columns</p>\n",
       "</div>"
      ],
      "text/plain": [
       "       ID                    Title      Genre              Director  Year  \\\n",
       "0       1  Guardians of the Galaxy     Action            James Gunn  2014   \n",
       "1       2               Prometheus  Adventure          Ridley Scott  2012   \n",
       "2       3                    Split     Horror    M. Night Shyamalan  2016   \n",
       "3       4                     Sing  Animation  Christophe Lourdelet  2016   \n",
       "4       5            Suicide Squad     Action            David Ayer  2016   \n",
       "..    ...                      ...        ...                   ...   ...   \n",
       "995   996     Secret in Their Eyes      Crime             Billy Ray  2015   \n",
       "996   997          Hostel: Part II     Horror              Eli Roth  2007   \n",
       "997   998   Step Up 2: The Streets      Drama            Jon M. Chu  2008   \n",
       "998   999             Search Party  Adventure        Scot Armstrong  2014   \n",
       "999  1000               Nine Lives     Comedy      Barry Sonnenfeld  2016   \n",
       "\n",
       "     Runtime_minutes  Rating   Votes  Revenue_millions  \n",
       "0                121     8.1  757074            333.13  \n",
       "1                124     7.0  485820            126.46  \n",
       "2                117     7.3  157606            138.12  \n",
       "3                108     7.2   60545            270.32  \n",
       "4                123     6.2  393727            325.02  \n",
       "..               ...     ...     ...               ...  \n",
       "995              111     6.2   27585               NaN  \n",
       "996               94     5.5   73152             17.54  \n",
       "997               98     6.2   70699             58.01  \n",
       "998               93     5.6    4881               NaN  \n",
       "999               87     5.3   12435             19.64  \n",
       "\n",
       "[1000 rows x 9 columns]"
      ]
     },
     "execution_count": 3,
     "metadata": {},
     "output_type": "execute_result"
    }
   ],
   "source": [
    "df = pd.read_csv(r'C:\\Users\\LENOVO\\Desktop\\Desk Files/IMDBMovie.csv')\n",
    "df"
   ]
  },
  {
   "cell_type": "code",
   "execution_count": 4,
   "id": "814638da-3ec0-4da9-bf48-fa1588b1eae1",
   "metadata": {},
   "outputs": [
    {
     "data": {
      "text/plain": [
       "1000"
      ]
     },
     "execution_count": 4,
     "metadata": {},
     "output_type": "execute_result"
    }
   ],
   "source": [
    "len(df)"
   ]
  },
  {
   "cell_type": "code",
   "execution_count": 5,
   "id": "40fa0cf3-5954-4e63-adde-5ec00a47c3a9",
   "metadata": {},
   "outputs": [
    {
     "data": {
      "text/plain": [
       "(1000, 9)"
      ]
     },
     "execution_count": 5,
     "metadata": {},
     "output_type": "execute_result"
    }
   ],
   "source": [
    "df.shape"
   ]
  },
  {
   "cell_type": "code",
   "execution_count": 6,
   "id": "ef3cffac-0eb8-4f8b-976a-85854c2cbcfa",
   "metadata": {},
   "outputs": [
    {
     "data": {
      "text/plain": [
       "ID                    int64\n",
       "Title                object\n",
       "Genre                object\n",
       "Director             object\n",
       "Year                  int64\n",
       "Runtime_minutes       int64\n",
       "Rating              float64\n",
       "Votes                 int64\n",
       "Revenue_millions    float64\n",
       "dtype: object"
      ]
     },
     "execution_count": 6,
     "metadata": {},
     "output_type": "execute_result"
    }
   ],
   "source": [
    "df.dtypes"
   ]
  },
  {
   "cell_type": "markdown",
   "id": "d55fbbd9-e047-42a6-b1b9-9dde46686430",
   "metadata": {},
   "source": [
    "What is the 75th percentile of rating in the IMDB dataset?"
   ]
  },
  {
   "cell_type": "code",
   "execution_count": 7,
   "id": "659849f8-0a84-4601-bdaa-6d3182092925",
   "metadata": {},
   "outputs": [
    {
     "data": {
      "text/plain": [
       "7.4"
      ]
     },
     "execution_count": 7,
     "metadata": {},
     "output_type": "execute_result"
    }
   ],
   "source": [
    "rating_75th = df['Rating'].quantile(0.75)\n",
    "rating_75th"
   ]
  },
  {
   "cell_type": "markdown",
   "id": "8276ab01-adaf-4b86-96ed-48e9ac5abf74",
   "metadata": {},
   "source": [
    "How many NA values are there in the field ‘Revenue’?"
   ]
  },
  {
   "cell_type": "code",
   "execution_count": 8,
   "id": "f160cd28-be14-41c3-8eb1-07682ab41dce",
   "metadata": {},
   "outputs": [
    {
     "data": {
      "text/plain": [
       "128"
      ]
     },
     "execution_count": 8,
     "metadata": {},
     "output_type": "execute_result"
    }
   ],
   "source": [
    "df['Revenue_millions'].isnull().sum()"
   ]
  },
  {
   "cell_type": "markdown",
   "id": "a5415d94-5391-4c7f-8fa1-05ad9fff4acb",
   "metadata": {},
   "source": [
    "Data slicing:\n",
    "\n",
    "We need to slice and dice the data to get a fair understanding of top earning movies, underrated movies and some additional statistics such as yearly revenue and average ratings"
   ]
  },
  {
   "cell_type": "markdown",
   "id": "8c22e378-158e-48d4-b6e6-8064c42b08e4",
   "metadata": {},
   "source": [
    "How many movies have revenue higher than 75 million?"
   ]
  },
  {
   "cell_type": "code",
   "execution_count": 9,
   "id": "638ebb4b-6d34-499d-bcde-9be38622d6ea",
   "metadata": {},
   "outputs": [
    {
     "data": {
      "text/plain": [
       "318"
      ]
     },
     "execution_count": 9,
     "metadata": {},
     "output_type": "execute_result"
    }
   ],
   "source": [
    "movies_with_higher_revenue_75 = len(df[df['Revenue_millions']>75])\n",
    "movies_with_higher_revenue_75"
   ]
  },
  {
   "cell_type": "markdown",
   "id": "890f932a-3a42-4f7f-b8ee-59258b5f2ee1",
   "metadata": {},
   "source": [
    "How many movies have revenue greater than 50 million but rating less than 7?"
   ]
  },
  {
   "cell_type": "code",
   "execution_count": 10,
   "id": "07902cd1-b456-4698-9359-3f7761345ce0",
   "metadata": {},
   "outputs": [
    {
     "data": {
      "text/plain": [
       "211"
      ]
     },
     "execution_count": 10,
     "metadata": {},
     "output_type": "execute_result"
    }
   ],
   "source": [
    "count_movies = len(df[(df['Revenue_millions']>50) & (df['Rating']<7)])\n",
    "count_movies"
   ]
  },
  {
   "cell_type": "markdown",
   "id": "5f18733a-d78b-4bd5-9a6d-eb50ff95dfbe",
   "metadata": {},
   "source": [
    "What is the total revenue generated by movies in the year 2015?"
   ]
  },
  {
   "cell_type": "code",
   "execution_count": 11,
   "id": "5da1ffeb-b9e2-4369-a493-3524462af1b1",
   "metadata": {},
   "outputs": [
    {
     "data": {
      "text/plain": [
       "8854.12"
      ]
     },
     "execution_count": 11,
     "metadata": {},
     "output_type": "execute_result"
    }
   ],
   "source": [
    "revenue_generated_2015 = df[df['Year']==2015]['Revenue_millions'].sum()\n",
    "round(revenue_generated_2015, 2)"
   ]
  },
  {
   "cell_type": "markdown",
   "id": "98c8158d-1d8c-4286-b6a0-30c9976921d7",
   "metadata": {},
   "source": [
    "What is the average rating for the genre adventure in the year 2015?"
   ]
  },
  {
   "cell_type": "code",
   "execution_count": 12,
   "id": "10843b56-4415-475f-bc61-2205641cdad2",
   "metadata": {},
   "outputs": [
    {
     "data": {
      "text/plain": [
       "6.8"
      ]
     },
     "execution_count": 12,
     "metadata": {},
     "output_type": "execute_result"
    }
   ],
   "source": [
    "average_rtg_adventure = df[(df['Year']==2015) & (df['Genre']=='Adventure')]['Rating'].mean()\n",
    "average_rtg_adventure"
   ]
  },
  {
   "cell_type": "markdown",
   "id": "6754cb14-afaf-4014-8f7f-6d3d34837d49",
   "metadata": {},
   "source": [
    "What is the average duration of movies in rows 75 to 150? Please note that the rows in python start from 0."
   ]
  },
  {
   "cell_type": "code",
   "execution_count": 13,
   "id": "43275fe3-11df-493a-913a-60c4c4015ac4",
   "metadata": {},
   "outputs": [
    {
     "data": {
      "text/plain": [
       "127.61"
      ]
     },
     "execution_count": 13,
     "metadata": {},
     "output_type": "execute_result"
    }
   ],
   "source": [
    "average_duration_movies = df.iloc[75:150]['Runtime_minutes'].mean()\n",
    "round(average_duration_movies, 2)"
   ]
  },
  {
   "cell_type": "markdown",
   "id": "6bdda703-7c5c-4d32-bd0d-8f0cd813eac6",
   "metadata": {},
   "source": [
    "Which year generated the highest revenue?"
   ]
  },
  {
   "cell_type": "code",
   "execution_count": 14,
   "id": "3d4e693c-952c-4200-975c-b641ae8303e6",
   "metadata": {},
   "outputs": [
    {
     "data": {
      "text/plain": [
       "2016"
      ]
     },
     "execution_count": 14,
     "metadata": {},
     "output_type": "execute_result"
    }
   ],
   "source": [
    "Highest_revenue_year =  df.groupby('Year')['Revenue_millions'].sum()\n",
    "Highest_revenue_year.idxmax()"
   ]
  },
  {
   "cell_type": "markdown",
   "id": "f8f22d61-6e74-424f-911c-a911b0ea44e2",
   "metadata": {},
   "source": [
    "What is the maximum revenue out of (10,20,30,40,50) rows?"
   ]
  },
  {
   "cell_type": "code",
   "execution_count": 15,
   "id": "faade757-b87b-4748-a557-8c3e1e84f13f",
   "metadata": {},
   "outputs": [
    {
     "data": {
      "text/plain": [
       "936.63"
      ]
     },
     "execution_count": 15,
     "metadata": {},
     "output_type": "execute_result"
    }
   ],
   "source": [
    "max_revenue = df.iloc[10:51]['Revenue_millions'].max()\n",
    "max_revenue"
   ]
  },
  {
   "cell_type": "markdown",
   "id": "c2366ee0-b9a5-4ce6-8f1f-d0ee766dd7fe",
   "metadata": {},
   "source": [
    "How many movies with the genres ‘Adventure’, ‘Action’, ‘Horror’, and ‘Crime’ exist in the IMDB dataset?"
   ]
  },
  {
   "cell_type": "code",
   "execution_count": 17,
   "id": "87022c0f-04b2-4e3d-a764-6346f7a75e4a",
   "metadata": {},
   "outputs": [
    {
     "data": {
      "text/plain": [
       "485"
      ]
     },
     "execution_count": 17,
     "metadata": {},
     "output_type": "execute_result"
    }
   ],
   "source": [
    "target_genres = ['Adventure', 'Action', 'Horror', 'Crime']\n",
    "\n",
    "is_target_genre = df['Genre'].apply(lambda x: any(genre in x for genre in target_genres))\n",
    "\n",
    "num_movies_with_target_genres = is_target_genre.sum()\n",
    "\n",
    "num_movies_with_target_genres"
   ]
  },
  {
   "cell_type": "markdown",
   "id": "469cfd8a-3479-4f15-9653-06e101392653",
   "metadata": {},
   "source": [
    "Create a genre-level report with metrics average rating, the average number of votes, and average revenue. What is the average rating of the ‘Horror’ genre? (Round to 2 decimal places)"
   ]
  },
  {
   "cell_type": "code",
   "execution_count": 18,
   "id": "13ec2e84-5cfb-4dd9-a325-db691006001a",
   "metadata": {},
   "outputs": [
    {
     "data": {
      "text/html": [
       "<div>\n",
       "<style scoped>\n",
       "    .dataframe tbody tr th:only-of-type {\n",
       "        vertical-align: middle;\n",
       "    }\n",
       "\n",
       "    .dataframe tbody tr th {\n",
       "        vertical-align: top;\n",
       "    }\n",
       "\n",
       "    .dataframe thead th {\n",
       "        text-align: right;\n",
       "    }\n",
       "</style>\n",
       "<table border=\"1\" class=\"dataframe\">\n",
       "  <thead>\n",
       "    <tr style=\"text-align: right;\">\n",
       "      <th></th>\n",
       "      <th>Genre</th>\n",
       "      <th>Average Rating</th>\n",
       "      <th>Average votes</th>\n",
       "      <th>Average Revenue</th>\n",
       "    </tr>\n",
       "  </thead>\n",
       "  <tbody>\n",
       "    <tr>\n",
       "      <th>0</th>\n",
       "      <td>Action</td>\n",
       "      <td>6.59</td>\n",
       "      <td>235948.58</td>\n",
       "      <td>122.09</td>\n",
       "    </tr>\n",
       "    <tr>\n",
       "      <th>1</th>\n",
       "      <td>Adventure</td>\n",
       "      <td>6.91</td>\n",
       "      <td>225669.32</td>\n",
       "      <td>113.45</td>\n",
       "    </tr>\n",
       "    <tr>\n",
       "      <th>2</th>\n",
       "      <td>Animation</td>\n",
       "      <td>7.32</td>\n",
       "      <td>208159.43</td>\n",
       "      <td>191.22</td>\n",
       "    </tr>\n",
       "    <tr>\n",
       "      <th>3</th>\n",
       "      <td>Biography</td>\n",
       "      <td>7.32</td>\n",
       "      <td>153060.72</td>\n",
       "      <td>55.95</td>\n",
       "    </tr>\n",
       "    <tr>\n",
       "      <th>4</th>\n",
       "      <td>Comedy</td>\n",
       "      <td>6.49</td>\n",
       "      <td>115640.19</td>\n",
       "      <td>51.58</td>\n",
       "    </tr>\n",
       "    <tr>\n",
       "      <th>5</th>\n",
       "      <td>Crime</td>\n",
       "      <td>6.81</td>\n",
       "      <td>150124.96</td>\n",
       "      <td>41.04</td>\n",
       "    </tr>\n",
       "    <tr>\n",
       "      <th>6</th>\n",
       "      <td>Drama</td>\n",
       "      <td>6.95</td>\n",
       "      <td>129445.13</td>\n",
       "      <td>35.87</td>\n",
       "    </tr>\n",
       "    <tr>\n",
       "      <th>7</th>\n",
       "      <td>Fantasy</td>\n",
       "      <td>5.85</td>\n",
       "      <td>106723.00</td>\n",
       "      <td>63.11</td>\n",
       "    </tr>\n",
       "    <tr>\n",
       "      <th>8</th>\n",
       "      <td>Horror</td>\n",
       "      <td>5.87</td>\n",
       "      <td>79435.41</td>\n",
       "      <td>39.95</td>\n",
       "    </tr>\n",
       "    <tr>\n",
       "      <th>9</th>\n",
       "      <td>Mystery</td>\n",
       "      <td>6.88</td>\n",
       "      <td>218672.00</td>\n",
       "      <td>64.38</td>\n",
       "    </tr>\n",
       "    <tr>\n",
       "      <th>10</th>\n",
       "      <td>Romance</td>\n",
       "      <td>6.60</td>\n",
       "      <td>104572.00</td>\n",
       "      <td>62.45</td>\n",
       "    </tr>\n",
       "    <tr>\n",
       "      <th>11</th>\n",
       "      <td>Sci-Fi</td>\n",
       "      <td>4.97</td>\n",
       "      <td>57450.00</td>\n",
       "      <td>42.64</td>\n",
       "    </tr>\n",
       "    <tr>\n",
       "      <th>12</th>\n",
       "      <td>Thriller</td>\n",
       "      <td>5.96</td>\n",
       "      <td>31156.80</td>\n",
       "      <td>0.32</td>\n",
       "    </tr>\n",
       "  </tbody>\n",
       "</table>\n",
       "</div>"
      ],
      "text/plain": [
       "        Genre  Average Rating  Average votes  Average Revenue\n",
       "0      Action            6.59      235948.58           122.09\n",
       "1   Adventure            6.91      225669.32           113.45\n",
       "2   Animation            7.32      208159.43           191.22\n",
       "3   Biography            7.32      153060.72            55.95\n",
       "4      Comedy            6.49      115640.19            51.58\n",
       "5       Crime            6.81      150124.96            41.04\n",
       "6       Drama            6.95      129445.13            35.87\n",
       "7     Fantasy            5.85      106723.00            63.11\n",
       "8      Horror            5.87       79435.41            39.95\n",
       "9     Mystery            6.88      218672.00            64.38\n",
       "10    Romance            6.60      104572.00            62.45\n",
       "11     Sci-Fi            4.97       57450.00            42.64\n",
       "12   Thriller            5.96       31156.80             0.32"
      ]
     },
     "execution_count": 18,
     "metadata": {},
     "output_type": "execute_result"
    }
   ],
   "source": [
    "genre_report = df.groupby('Genre').agg({\n",
    "    'Rating': 'mean',\n",
    "    'Votes' : 'mean',\n",
    "    'Revenue_millions' : 'mean'}).reset_index()\n",
    "\n",
    "genre_report.columns = ['Genre', 'Average Rating', 'Average votes', 'Average Revenue']\n",
    "\n",
    "round(genre_report, 2)"
   ]
  },
  {
   "cell_type": "markdown",
   "id": "2d215347-3c32-4549-a439-fd28238e52e8",
   "metadata": {},
   "source": [
    "Create a report to showcase the revenue of each movie, as % revenue concerning the total revenue of the respective genre and year of the movie.\n",
    "What is the  % revenue of the movie ‘Split’ in its respective genre and year?\r\n"
   ]
  },
  {
   "cell_type": "code",
   "execution_count": 19,
   "id": "5f642698-a749-4065-89ef-a6d40854e80f",
   "metadata": {},
   "outputs": [
    {
     "data": {
      "text/plain": [
       "29.42"
      ]
     },
     "execution_count": 19,
     "metadata": {},
     "output_type": "execute_result"
    }
   ],
   "source": [
    "genre_year_total_revenue = df.groupby(['Genre','Year'])['Revenue_millions'].transform('sum')\n",
    "\n",
    "split_revenue = df[(df['Title']=='Split')]['Revenue_millions'].values[0]\n",
    "\n",
    "percentage_revenue_split = (split_revenue * 100)/genre_year_total_revenue[df['Title']=='Split'].values[0]\n",
    "\n",
    "round(percentage_revenue_split, 2)"
   ]
  },
  {
   "cell_type": "markdown",
   "id": "3b7aa2d7-8e73-4d18-8210-bf54b9fca940",
   "metadata": {},
   "source": [
    "What is the average ‘Votes_norm’ ?"
   ]
  },
  {
   "cell_type": "code",
   "execution_count": 20,
   "id": "fe240eb7-50f2-45ab-ab6b-d1c55aa1bb7a",
   "metadata": {},
   "outputs": [
    {
     "data": {
      "text/plain": [
       "0.95"
      ]
     },
     "execution_count": 20,
     "metadata": {},
     "output_type": "execute_result"
    }
   ],
   "source": [
    "max_votes = df['Votes'].max()\n",
    "min_votes = df['Votes'].min()\n",
    "\n",
    "def normalize_votes(votes):\n",
    "    return ((votes - min_votes) * 10)/(max_votes - min_votes)\n",
    "\n",
    "df['votes_norm'] = df['Votes'].apply(normalize_votes)\n",
    "\n",
    "average_votes_norm = df['votes_norm'].mean().round(2)\n",
    "\n",
    "average_votes_norm"
   ]
  },
  {
   "cell_type": "markdown",
   "id": "970034bd-b827-4511-a2f4-8bb64234d6ed",
   "metadata": {},
   "source": [
    "What is the highest ‘Total_rating’ ?"
   ]
  },
  {
   "cell_type": "code",
   "execution_count": 21,
   "id": "a076b06b-be99-4b1c-ab99-2640bf6a8906",
   "metadata": {},
   "outputs": [
    {
     "data": {
      "text/plain": [
       "19.0"
      ]
     },
     "execution_count": 21,
     "metadata": {},
     "output_type": "execute_result"
    }
   ],
   "source": [
    "def Cal_total_rtg(row):\n",
    "    return row['Rating'] + row['votes_norm']\n",
    "\n",
    "df['Total_rating'] = df.apply(Cal_total_rtg, axis=1)\n",
    "\n",
    "highest_total_rating = df['Total_rating'].max()\n",
    "highest_total_rating"
   ]
  },
  {
   "cell_type": "markdown",
   "id": "3105340e-848c-4a99-8504-0fd3aafd6219",
   "metadata": {},
   "source": [
    "Create a new column ‘Revenue_bins’ so that ‘Revenue_millions’ are categorized in buckets 0-50, 51-100, 101-150, and 150+. Which bucket has the highest number of movies?"
   ]
  },
  {
   "cell_type": "code",
   "execution_count": 22,
   "id": "b0468ebc-f6f1-47f2-bf01-e2b648c0847d",
   "metadata": {},
   "outputs": [
    {
     "data": {
      "text/plain": [
       "'0-50'"
      ]
     },
     "execution_count": 22,
     "metadata": {},
     "output_type": "execute_result"
    }
   ],
   "source": [
    "bins = [0, 50, 100, 150, float('inf')]\n",
    "labels = ['0-50', '51-100', '101-150', '150+']\n",
    "\n",
    "df['Revenue_bins'] = pd.cut(df['Revenue_millions'], bins=bins, labels=labels)\n",
    "\n",
    "highest_bucket = df['Revenue_bins'].value_counts().idxmax()\n",
    "\n",
    "highest_bucket"
   ]
  },
  {
   "cell_type": "markdown",
   "id": "d0dce1a1-b01e-4f2e-a98d-d2d4b6ddadf3",
   "metadata": {},
   "source": [
    "Finding the Top Grossing Movies within the Dataset"
   ]
  },
  {
   "cell_type": "code",
   "execution_count": 23,
   "id": "033854d6-2b46-44c2-baa6-f1855aff3ceb",
   "metadata": {},
   "outputs": [
    {
     "data": {
      "text/html": [
       "<div>\n",
       "<style scoped>\n",
       "    .dataframe tbody tr th:only-of-type {\n",
       "        vertical-align: middle;\n",
       "    }\n",
       "\n",
       "    .dataframe tbody tr th {\n",
       "        vertical-align: top;\n",
       "    }\n",
       "\n",
       "    .dataframe thead th {\n",
       "        text-align: right;\n",
       "    }\n",
       "</style>\n",
       "<table border=\"1\" class=\"dataframe\">\n",
       "  <thead>\n",
       "    <tr style=\"text-align: right;\">\n",
       "      <th></th>\n",
       "      <th>Title</th>\n",
       "      <th>Revenue_millions</th>\n",
       "    </tr>\n",
       "  </thead>\n",
       "  <tbody>\n",
       "    <tr>\n",
       "      <th>50</th>\n",
       "      <td>Star Wars: Episode VII - The Force Awakens</td>\n",
       "      <td>936.63</td>\n",
       "    </tr>\n",
       "    <tr>\n",
       "      <th>87</th>\n",
       "      <td>Avatar</td>\n",
       "      <td>760.51</td>\n",
       "    </tr>\n",
       "    <tr>\n",
       "      <th>85</th>\n",
       "      <td>Jurassic World</td>\n",
       "      <td>652.18</td>\n",
       "    </tr>\n",
       "    <tr>\n",
       "      <th>76</th>\n",
       "      <td>The Avengers</td>\n",
       "      <td>623.28</td>\n",
       "    </tr>\n",
       "    <tr>\n",
       "      <th>54</th>\n",
       "      <td>The Dark Knight</td>\n",
       "      <td>533.32</td>\n",
       "    </tr>\n",
       "    <tr>\n",
       "      <th>12</th>\n",
       "      <td>Rogue One</td>\n",
       "      <td>532.17</td>\n",
       "    </tr>\n",
       "    <tr>\n",
       "      <th>119</th>\n",
       "      <td>Finding Dory</td>\n",
       "      <td>486.29</td>\n",
       "    </tr>\n",
       "    <tr>\n",
       "      <th>94</th>\n",
       "      <td>Avengers: Age of Ultron</td>\n",
       "      <td>458.99</td>\n",
       "    </tr>\n",
       "    <tr>\n",
       "      <th>124</th>\n",
       "      <td>The Dark Knight Rises</td>\n",
       "      <td>448.13</td>\n",
       "    </tr>\n",
       "    <tr>\n",
       "      <th>578</th>\n",
       "      <td>The Hunger Games: Catching Fire</td>\n",
       "      <td>424.65</td>\n",
       "    </tr>\n",
       "  </tbody>\n",
       "</table>\n",
       "</div>"
      ],
      "text/plain": [
       "                                          Title  Revenue_millions\n",
       "50   Star Wars: Episode VII - The Force Awakens            936.63\n",
       "87                                       Avatar            760.51\n",
       "85                               Jurassic World            652.18\n",
       "76                                 The Avengers            623.28\n",
       "54                              The Dark Knight            533.32\n",
       "12                                    Rogue One            532.17\n",
       "119                                Finding Dory            486.29\n",
       "94                      Avengers: Age of Ultron            458.99\n",
       "124                       The Dark Knight Rises            448.13\n",
       "578             The Hunger Games: Catching Fire            424.65"
      ]
     },
     "execution_count": 23,
     "metadata": {},
     "output_type": "execute_result"
    }
   ],
   "source": [
    "df[['Title', 'Revenue_millions']].sort_values(by= 'Revenue_millions', ascending = False).head(10)"
   ]
  },
  {
   "cell_type": "markdown",
   "id": "0e0a6cbf-ec81-435f-97ed-d0e9374d19b1",
   "metadata": {},
   "source": [
    "Top 10 movie titles with average votes"
   ]
  },
  {
   "cell_type": "code",
   "execution_count": 24,
   "id": "c618f58f-b91c-46df-ba72-1762073ca70e",
   "metadata": {},
   "outputs": [
    {
     "data": {
      "text/plain": [
       "Title\n",
       "The Dark Knight          1791916.0\n",
       "Inception                1583625.0\n",
       "The Dark Knight Rises    1222645.0\n",
       "Interstellar             1047747.0\n",
       "The Avengers             1045588.0\n",
       "Django Unchained         1039115.0\n",
       "Inglourious Basterds      959065.0\n",
       "The Departed              937414.0\n",
       "Avatar                    935408.0\n",
       "The Prestige              913152.0\n",
       "Name: Votes, dtype: float64"
      ]
     },
     "execution_count": 24,
     "metadata": {},
     "output_type": "execute_result"
    }
   ],
   "source": [
    "average_votes = df.groupby('Title')['Votes'].mean()\n",
    "\n",
    "sort_movies = average_votes.sort_values(ascending = False)\n",
    "\n",
    "top_movies = sort_movies.head(10)\n",
    "\n",
    "top_movies"
   ]
  },
  {
   "cell_type": "markdown",
   "id": "2407e961-fa3f-4728-b0da-e8e96489210f",
   "metadata": {},
   "source": [
    "Revenue according to Directors"
   ]
  },
  {
   "cell_type": "code",
   "execution_count": 38,
   "id": "76dedd43-13aa-49f2-bf9d-a85603744b59",
   "metadata": {},
   "outputs": [
    {
     "data": {
      "text/plain": [
       "Director\n",
       "J.J. Abrams          1683.45\n",
       "David Yates          1630.51\n",
       "Christopher Nolan    1515.09\n",
       "Michael Bay          1421.32\n",
       "Francis Lawrence     1299.81\n",
       "Joss Whedon          1082.27\n",
       "Jon Favreau          1025.60\n",
       "Zack Snyder           975.74\n",
       "Peter Jackson         860.45\n",
       "Gore Verbinski        829.82\n",
       "Name: Revenue_millions, dtype: float64"
      ]
     },
     "execution_count": 38,
     "metadata": {},
     "output_type": "execute_result"
    }
   ],
   "source": [
    "sum_of_revenue = df.groupby('Director')['Revenue_millions'].sum()\n",
    "\n",
    "sort_director = sum_of_revenue.sort_values(ascending=False)\n",
    "\n",
    "Top_directors = sort_director.head(10)\n",
    "\n",
    "Top_directors"
   ]
  },
  {
   "cell_type": "markdown",
   "id": "9ca8dba5-a371-4d17-a457-16ae5db1cd22",
   "metadata": {},
   "source": [
    "*Count of unique directors*"
   ]
  },
  {
   "cell_type": "code",
   "execution_count": 44,
   "id": "01a0dd39-24bf-4c8d-9afc-4a19741dadfd",
   "metadata": {},
   "outputs": [
    {
     "data": {
      "text/plain": [
       "644"
      ]
     },
     "execution_count": 44,
     "metadata": {},
     "output_type": "execute_result"
    }
   ],
   "source": [
    "director_count = df['Director'].str.split(',').explode()\n",
    "\n",
    "director_count.nunique()"
   ]
  },
  {
   "cell_type": "markdown",
   "id": "cfafa949-39ed-42b9-b517-42916beb674d",
   "metadata": {},
   "source": [
    "**Creating a histogram**"
   ]
  },
  {
   "cell_type": "code",
   "execution_count": 35,
   "id": "d95730db-e4dc-4916-8b9d-6987097fb173",
   "metadata": {},
   "outputs": [
    {
     "data": {
      "image/png": "[encoded data removed]",
      "text/plain": [
       "<Figure size 640x480 with 1 Axes>"
      ]
     },
     "metadata": {},
     "output_type": "display_data"
    }
   ],
   "source": [
    "df['Runtime_minutes'].plot(kind='hist', bins=10)\n",
    "\n",
    "plt.xlabel('Runtime_minutes')\n",
    "plt.ylabel('Frequency')\n",
    "\n",
    "plt.show()"
   ]
  },
  {
   "cell_type": "markdown",
   "id": "84990071-2ff6-4bb5-9a48-e19a86a2d664",
   "metadata": {},
   "source": [
    "The Above histogram shows that most of the movies has a run time of 100 to 120 minutes."
   ]
  },
  {
   "cell_type": "code",
   "execution_count": 51,
   "id": "f93f258b-f226-489d-b0d6-4f3f7e435df1",
   "metadata": {},
   "outputs": [
    {
     "data": {
      "image/png": "[encoded data removed]",
      "text/plain": [
       "<Figure size 700x400 with 1 Axes>"
      ]
     },
     "metadata": {},
     "output_type": "display_data"
    }
   ],
   "source": [
    "genre_counts = df['Genre'].value_counts()\n",
    "\n",
    "genre_counts = genre_counts.sort_values(ascending=False)\n",
    "\n",
    "plt.figure(figsize=(7, 4))\n",
    "bars = genre_counts.plot(kind='bar')\n",
    "\n",
    "plt.xlabel('Genre')\n",
    "plt.ylabel('Title_Count')\n",
    "plt.title('Title Count by Genre')\n",
    "\n",
    "plt.xticks(rotation=45)\n",
    "\n",
    "for i, v in enumerate(genre_counts):\n",
    "    bars.text(i, v, str(v), ha='center', va='bottom')"
   ]
  },
  {
   "cell_type": "markdown",
   "id": "d5dfcc3b-9555-40e6-90c3-82c480f42543",
   "metadata": {},
   "source": [
    "The above bar chart shows the number of movie count according to genre "
   ]
  },
  {
   "cell_type": "code",
   "execution_count": 37,
   "id": "0274c72a-403e-4353-a03e-17f7da64dd56",
   "metadata": {},
   "outputs": [
    {
     "data": {
      "text/html": [
       "<div>\n",
       "<style scoped>\n",
       "    .dataframe tbody tr th:only-of-type {\n",
       "        vertical-align: middle;\n",
       "    }\n",
       "\n",
       "    .dataframe tbody tr th {\n",
       "        vertical-align: top;\n",
       "    }\n",
       "\n",
       "    .dataframe thead th {\n",
       "        text-align: right;\n",
       "    }\n",
       "</style>\n",
       "<table border=\"1\" class=\"dataframe\">\n",
       "  <thead>\n",
       "    <tr style=\"text-align: right;\">\n",
       "      <th></th>\n",
       "      <th>ID</th>\n",
       "      <th>Title</th>\n",
       "      <th>Genre</th>\n",
       "      <th>Director</th>\n",
       "      <th>Year</th>\n",
       "      <th>Runtime_minutes</th>\n",
       "      <th>Rating</th>\n",
       "      <th>Votes</th>\n",
       "      <th>Revenue_millions</th>\n",
       "      <th>votes_norm</th>\n",
       "      <th>Total_rating</th>\n",
       "      <th>Revenue_bins</th>\n",
       "    </tr>\n",
       "  </thead>\n",
       "  <tbody>\n",
       "    <tr>\n",
       "      <th>0</th>\n",
       "      <td>1</td>\n",
       "      <td>Guardians of the Galaxy</td>\n",
       "      <td>Action</td>\n",
       "      <td>James Gunn</td>\n",
       "      <td>2014</td>\n",
       "      <td>121</td>\n",
       "      <td>8.1</td>\n",
       "      <td>757074</td>\n",
       "      <td>333.13</td>\n",
       "      <td>4.224745</td>\n",
       "      <td>12.324745</td>\n",
       "      <td>150+</td>\n",
       "    </tr>\n",
       "    <tr>\n",
       "      <th>1</th>\n",
       "      <td>2</td>\n",
       "      <td>Prometheus</td>\n",
       "      <td>Adventure</td>\n",
       "      <td>Ridley Scott</td>\n",
       "      <td>2012</td>\n",
       "      <td>124</td>\n",
       "      <td>7.0</td>\n",
       "      <td>485820</td>\n",
       "      <td>126.46</td>\n",
       "      <td>2.710928</td>\n",
       "      <td>9.710928</td>\n",
       "      <td>101-150</td>\n",
       "    </tr>\n",
       "    <tr>\n",
       "      <th>2</th>\n",
       "      <td>3</td>\n",
       "      <td>Split</td>\n",
       "      <td>Horror</td>\n",
       "      <td>M. Night Shyamalan</td>\n",
       "      <td>2016</td>\n",
       "      <td>117</td>\n",
       "      <td>7.3</td>\n",
       "      <td>157606</td>\n",
       "      <td>138.12</td>\n",
       "      <td>0.879229</td>\n",
       "      <td>8.179229</td>\n",
       "      <td>101-150</td>\n",
       "    </tr>\n",
       "    <tr>\n",
       "      <th>3</th>\n",
       "      <td>4</td>\n",
       "      <td>Sing</td>\n",
       "      <td>Animation</td>\n",
       "      <td>Christophe Lourdelet</td>\n",
       "      <td>2016</td>\n",
       "      <td>108</td>\n",
       "      <td>7.2</td>\n",
       "      <td>60545</td>\n",
       "      <td>270.32</td>\n",
       "      <td>0.337550</td>\n",
       "      <td>7.537550</td>\n",
       "      <td>150+</td>\n",
       "    </tr>\n",
       "    <tr>\n",
       "      <th>4</th>\n",
       "      <td>5</td>\n",
       "      <td>Suicide Squad</td>\n",
       "      <td>Action</td>\n",
       "      <td>David Ayer</td>\n",
       "      <td>2016</td>\n",
       "      <td>123</td>\n",
       "      <td>6.2</td>\n",
       "      <td>393727</td>\n",
       "      <td>325.02</td>\n",
       "      <td>2.196975</td>\n",
       "      <td>8.396975</td>\n",
       "      <td>150+</td>\n",
       "    </tr>\n",
       "    <tr>\n",
       "      <th>...</th>\n",
       "      <td>...</td>\n",
       "      <td>...</td>\n",
       "      <td>...</td>\n",
       "      <td>...</td>\n",
       "      <td>...</td>\n",
       "      <td>...</td>\n",
       "      <td>...</td>\n",
       "      <td>...</td>\n",
       "      <td>...</td>\n",
       "      <td>...</td>\n",
       "      <td>...</td>\n",
       "      <td>...</td>\n",
       "    </tr>\n",
       "    <tr>\n",
       "      <th>995</th>\n",
       "      <td>996</td>\n",
       "      <td>Secret in Their Eyes</td>\n",
       "      <td>Crime</td>\n",
       "      <td>Billy Ray</td>\n",
       "      <td>2015</td>\n",
       "      <td>111</td>\n",
       "      <td>6.2</td>\n",
       "      <td>27585</td>\n",
       "      <td>NaN</td>\n",
       "      <td>0.153606</td>\n",
       "      <td>6.353606</td>\n",
       "      <td>NaN</td>\n",
       "    </tr>\n",
       "    <tr>\n",
       "      <th>996</th>\n",
       "      <td>997</td>\n",
       "      <td>Hostel: Part II</td>\n",
       "      <td>Horror</td>\n",
       "      <td>Eli Roth</td>\n",
       "      <td>2007</td>\n",
       "      <td>94</td>\n",
       "      <td>5.5</td>\n",
       "      <td>73152</td>\n",
       "      <td>17.54</td>\n",
       "      <td>0.407907</td>\n",
       "      <td>5.907907</td>\n",
       "      <td>0-50</td>\n",
       "    </tr>\n",
       "    <tr>\n",
       "      <th>997</th>\n",
       "      <td>998</td>\n",
       "      <td>Step Up 2: The Streets</td>\n",
       "      <td>Drama</td>\n",
       "      <td>Jon M. Chu</td>\n",
       "      <td>2008</td>\n",
       "      <td>98</td>\n",
       "      <td>6.2</td>\n",
       "      <td>70699</td>\n",
       "      <td>58.01</td>\n",
       "      <td>0.394217</td>\n",
       "      <td>6.594217</td>\n",
       "      <td>51-100</td>\n",
       "    </tr>\n",
       "    <tr>\n",
       "      <th>998</th>\n",
       "      <td>999</td>\n",
       "      <td>Search Party</td>\n",
       "      <td>Adventure</td>\n",
       "      <td>Scot Armstrong</td>\n",
       "      <td>2014</td>\n",
       "      <td>93</td>\n",
       "      <td>5.6</td>\n",
       "      <td>4881</td>\n",
       "      <td>NaN</td>\n",
       "      <td>0.026899</td>\n",
       "      <td>5.626899</td>\n",
       "      <td>NaN</td>\n",
       "    </tr>\n",
       "    <tr>\n",
       "      <th>999</th>\n",
       "      <td>1000</td>\n",
       "      <td>Nine Lives</td>\n",
       "      <td>Comedy</td>\n",
       "      <td>Barry Sonnenfeld</td>\n",
       "      <td>2016</td>\n",
       "      <td>87</td>\n",
       "      <td>5.3</td>\n",
       "      <td>12435</td>\n",
       "      <td>19.64</td>\n",
       "      <td>0.069057</td>\n",
       "      <td>5.369057</td>\n",
       "      <td>0-50</td>\n",
       "    </tr>\n",
       "  </tbody>\n",
       "</table>\n",
       "<p>1000 rows × 12 columns</p>\n",
       "</div>"
      ],
      "text/plain": [
       "       ID                    Title      Genre              Director  Year  \\\n",
       "0       1  Guardians of the Galaxy     Action            James Gunn  2014   \n",
       "1       2               Prometheus  Adventure          Ridley Scott  2012   \n",
       "2       3                    Split     Horror    M. Night Shyamalan  2016   \n",
       "3       4                     Sing  Animation  Christophe Lourdelet  2016   \n",
       "4       5            Suicide Squad     Action            David Ayer  2016   \n",
       "..    ...                      ...        ...                   ...   ...   \n",
       "995   996     Secret in Their Eyes      Crime             Billy Ray  2015   \n",
       "996   997          Hostel: Part II     Horror              Eli Roth  2007   \n",
       "997   998   Step Up 2: The Streets      Drama            Jon M. Chu  2008   \n",
       "998   999             Search Party  Adventure        Scot Armstrong  2014   \n",
       "999  1000               Nine Lives     Comedy      Barry Sonnenfeld  2016   \n",
       "\n",
       "     Runtime_minutes  Rating   Votes  Revenue_millions  votes_norm  \\\n",
       "0                121     8.1  757074            333.13    4.224745   \n",
       "1                124     7.0  485820            126.46    2.710928   \n",
       "2                117     7.3  157606            138.12    0.879229   \n",
       "3                108     7.2   60545            270.32    0.337550   \n",
       "4                123     6.2  393727            325.02    2.196975   \n",
       "..               ...     ...     ...               ...         ...   \n",
       "995              111     6.2   27585               NaN    0.153606   \n",
       "996               94     5.5   73152             17.54    0.407907   \n",
       "997               98     6.2   70699             58.01    0.394217   \n",
       "998               93     5.6    4881               NaN    0.026899   \n",
       "999               87     5.3   12435             19.64    0.069057   \n",
       "\n",
       "     Total_rating Revenue_bins  \n",
       "0       12.324745         150+  \n",
       "1        9.710928      101-150  \n",
       "2        8.179229      101-150  \n",
       "3        7.537550         150+  \n",
       "4        8.396975         150+  \n",
       "..            ...          ...  \n",
       "995      6.353606          NaN  \n",
       "996      5.907907         0-50  \n",
       "997      6.594217       51-100  \n",
       "998      5.626899          NaN  \n",
       "999      5.369057         0-50  \n",
       "\n",
       "[1000 rows x 12 columns]"
      ]
     },
     "execution_count": 37,
     "metadata": {},
     "output_type": "execute_result"
    }
   ],
   "source": [
    "df"
   ]
  },
  {
   "cell_type": "code",
   "execution_count": 50,
   "id": "2ea7d182-713b-4091-b04a-a4763f0d57f4",
   "metadata": {},
   "outputs": [
    {
     "data": {
      "text/plain": [
       "Text(0, 0.5, 'Runtime_minutes')"
      ]
     },
     "execution_count": 50,
     "metadata": {},
     "output_type": "execute_result"
    },
    {
     "data": {
      "image/png": "[encoded data removed]",
      "text/plain": [
       "<Figure size 640x480 with 1 Axes>"
      ]
     },
     "metadata": {},
     "output_type": "display_data"
    }
   ],
   "source": [
    "df.boxplot(column = 'Runtime_minutes', by='Rating')\n",
    "\n",
    "plt.xlabel('Rating')\n",
    "plt.ylabel('Runtime_minutes')"
   ]
  },
  {
   "cell_type": "markdown",
   "id": "c108032f-fae7-487e-9e43-7b164477a104",
   "metadata": {},
   "source": [
    "The above boxplot tells us that if the movie duration is below 140 mins it’s more likely to receive a rating."
   ]
  },
  {
   "cell_type": "code",
   "execution_count": null,
   "id": "1ca6853c-b708-486d-8176-2c54ea395281",
   "metadata": {},
   "outputs": [],
   "source": []
  }
 ],
 "metadata": {
  "kernelspec": {
   "display_name": "Python 3 (ipykernel)",
   "language": "python",
   "name": "python3"
  },
  "language_info": {
   "codemirror_mode": {
    "name": "ipython",
    "version": 3
   },
   "file_extension": ".py",
   "mimetype": "text/x-python",
   "name": "python",
   "nbconvert_exporter": "python",
   "pygments_lexer": "ipython3",
   "version": "3.11.4"
  }
 },
 "nbformat": 4,
 "nbformat_minor": 5
}
